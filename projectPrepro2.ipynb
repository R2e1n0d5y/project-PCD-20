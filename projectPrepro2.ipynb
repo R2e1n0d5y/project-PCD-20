{
 "cells": [
  {
   "cell_type": "code",
   "execution_count": 20,
   "metadata": {},
   "outputs": [],
   "source": [
    "# Import library yang kalian butuhkan\n",
    "import os\n",
    "import cv2 as cv\n",
    "import matplotlib.pyplot as plt\n",
    "import numpy as np\n",
    "import pandas as pd\n",
    "from sklearn.model_selection import train_test_split, cross_val_predict\n",
    "from sklearn.metrics import accuracy_score, classification_report\n",
    "from skimage.feature import graycomatrix, graycoprops\n",
    "from scipy.stats import entropy\n",
    "from sklearn.ensemble import RandomForestClassifier\n",
    "from sklearn.svm import SVC\n",
    "from sklearn.neighbors import KNeighborsClassifier\n",
    "from sklearn.metrics import accuracy_score, precision_score, recall_score, f1_score, confusion_matrix, classification_report\n",
    "from sklearn.metrics import (confusion_matrix, ConfusionMatrixDisplay)\n",
    "import seaborn as sns"
   ]
  },
  {
   "cell_type": "markdown",
   "metadata": {},
   "source": [
    "## Data Loading"
   ]
  },
  {
   "cell_type": "markdown",
   "metadata": {},
   "source": [
    "Buat struktur folder dataset sebagai berikut:\n",
    "```\n",
    ".\n",
    "└──dataset\n",
    "    ├── label1\n",
    "\t├── image1.jpg\n",
    "\t├── image2.jpg\n",
    "\t└── image3.jpg\n",
    "    ├── label2\n",
    "    └── label3\n",
    "    └── dst...\n",
    "```"
   ]
  },
  {
   "cell_type": "code",
   "execution_count": 21,
   "metadata": {},
   "outputs": [],
   "source": [
    "def cropResize(img, resize):\n",
    "    h, w = img.shape[:2]\n",
    "    min_dim = min(h, w)\n",
    "\n",
    "    start_x = (w - min_dim) // 2\n",
    "    start_y = (h - min_dim) // 2\n",
    "\n",
    "    cropped_img = img[start_y:start_y + min_dim, start_x:start_x + min_dim]\n",
    "\n",
    "    resize_img = cv.resize(cropped_img, (resize,resize))\n",
    "\n",
    "    return resize_img"
   ]
  },
  {
   "cell_type": "code",
   "execution_count": 22,
   "metadata": {},
   "outputs": [],
   "source": [
    "data = []\n",
    "labels = []\n",
    "file_name = []\n",
    "for sub_folder in os.listdir(\"dataset/\"):\n",
    "    sub_folder_files = os.listdir(os.path.join(\"dataset/\", sub_folder))\n",
    "    for i, filename in enumerate(sub_folder_files):\n",
    "        img_path = os.path.join(\"dataset/\", sub_folder, filename)\n",
    "        img = cv.imread(img_path)\n",
    "        img = img.astype(np.uint8)\n",
    "        img = cv.cvtColor(img, cv.COLOR_BGR2GRAY)\n",
    "        img = cropResize(img, 256)\n",
    "        \n",
    "        data.append(img)\n",
    "        labels.append(sub_folder)\n",
    "        name = os.path.splitext(filename)[0]\n",
    "        file_name.append(filename)\n",
    "        \n",
    "data = np.array(data)\n",
    "labels = np.array(labels)\n",
    "file_name = np.array(file_name)"
   ]
  },
  {
   "cell_type": "markdown",
   "metadata": {},
   "source": [
    "## Data Augmentation"
   ]
  },
  {
   "cell_type": "markdown",
   "metadata": {},
   "source": [
    "### Define Augmentation Function\n"
   ]
  },
  {
   "cell_type": "code",
   "execution_count": 23,
   "metadata": {},
   "outputs": [],
   "source": [
    "def flip_horizontal(img):\n",
    "    flipped = img[:, ::-1].copy()\n",
    "    return flipped\n",
    "\n",
    "def rotate_image(img, angle_degrees):\n",
    "    angle = np.deg2rad(angle_degrees)\n",
    "    cos_a, sin_a = np.cos(angle), np.sin(angle)\n",
    "    \n",
    "    h, w = img.shape\n",
    "    cx, cy = w // 2, h // 2\n",
    "    \n",
    "    rotated = np.zeros_like(img)\n",
    "\n",
    "    for y in range(h):\n",
    "        for x in range(w):\n",
    "            x_rel, y_rel = x - cx, y - cy\n",
    "            orig_x = int(cx + x_rel * cos_a + y_rel * sin_a)\n",
    "            orig_y = int(cy - x_rel * sin_a + y_rel * cos_a)\n",
    "            \n",
    "            if 0 <= orig_x < w and 0 <= orig_y < h:\n",
    "                rotated[y, x] = img[orig_y, orig_x]\n",
    "    \n",
    "    return rotated\n",
    "\n",
    "def adjust_brightness(img, beta):\n",
    "    bright = img.astype(np.int16) + beta\n",
    "    bright = np.clip(bright, 0, 255)\n",
    "    return bright.astype(np.uint8)\n",
    "\n",
    "def augment_image(img):\n",
    "    augmented_images = []\n",
    "    augmented_images.append(flip_horizontal(img))     # Flip\n",
    "    augmented_images.append(rotate_image(img, 15))    # Rotate 15 deg\n",
    "    augmented_images.append(adjust_brightness(img, 10))  # Brightness +10\n",
    "    return augmented_images"
   ]
  },
  {
   "cell_type": "markdown",
   "metadata": {},
   "source": [
    "### Augmentation Process"
   ]
  },
  {
   "cell_type": "code",
   "execution_count": 24,
   "metadata": {},
   "outputs": [],
   "source": [
    "data_augmented = []\n",
    "labels_augmented = []\n",
    "file_name_augmented = []\n",
    "\n",
    "for i in range(len(data)):\n",
    "    img = data[i]\n",
    "    label = labels[i]\n",
    "    fname = file_name[i]\n",
    "\n",
    "    data_augmented.append(img)\n",
    "    labels_augmented.append(label)\n",
    "    file_name_augmented.append(fname)\n",
    "\n",
    "    augmented_imgs = augment_image(img)\n",
    "    suffixes = ['_flip', '_rot', '_bright']\n",
    "    \n",
    "    for aug_img, suffix in zip(augmented_imgs, suffixes):\n",
    "        data_augmented.append(aug_img)\n",
    "        labels_augmented.append(label)\n",
    "        file_name_augmented.append(fname + suffix)"
   ]
  },
  {
   "cell_type": "code",
   "execution_count": 25,
   "metadata": {},
   "outputs": [
    {
     "name": "stdout",
     "output_type": "stream",
     "text": [
      "Data sebelum augmentasi:  60\n",
      "Data setelah augmentasi:  240\n"
     ]
    }
   ],
   "source": [
    "print(\"Data sebelum augmentasi: \", len(data))\n",
    "print(\"Data setelah augmentasi: \", len(data_augmented))"
   ]
  },
  {
   "cell_type": "markdown",
   "metadata": {},
   "source": [
    "## Data Preparation"
   ]
  },
  {
   "cell_type": "markdown",
   "metadata": {},
   "source": [
    "### Define Preprocessing Function\n"
   ]
  },
  {
   "cell_type": "code",
   "execution_count": null,
   "metadata": {},
   "outputs": [],
   "source": [
    "def padding_baris(image):\n",
    "    height, width = image.shape\n",
    "    img_pad = np.zeros((height, width+1), dtype=image.dtype)\n",
    "    for i in range(height):\n",
    "        for j in range(width):\n",
    "            img_pad[i][j] = image[i][j]\n",
    "    return img_pad\n",
    "\n",
    "def padding_kolom(image):\n",
    "    height, width = image.shape\n",
    "    img_pad = np.zeros((height+1, width), dtype=image.dtype)\n",
    "    for i in range(height):\n",
    "        for j in range(width):\n",
    "            img_pad[i][j] = image[i][j]\n",
    "    return img_pad\n",
    "\n",
    "def convo_edge(image, kernel, jenis):\n",
    "    img_height, img_width = image.shape\n",
    "    kernel_height, kernel_width = kernel.shape\n",
    "    pad_height = kernel_height // 2\n",
    "    pad_width = kernel_width // 2\n",
    "\n",
    "    if jenis != 'robert':\n",
    "        padded_img = np.pad(image, ((pad_height, pad_height), (pad_width, pad_width)), mode='constant')\n",
    "    else:\n",
    "        padded_baris = padding_baris(image)\n",
    "        padded_img = padding_kolom(padded_baris)\n",
    "\n",
    "    result = np.zeros((img_height, img_width), dtype=np.float32)\n",
    "\n",
    "    for i in range(img_height):\n",
    "        for j in range(img_width):\n",
    "            result[i, j] = np.sum(padded_img[i:i+kernel_height, j:j+kernel_width] * kernel)\n",
    "\n",
    "    return result\n",
    "\n",
    "def deteksi_tepi(image, kernelX, kernelY, jenis):\n",
    "    hasilX = convo_edge(image, kernelX, jenis)\n",
    "    hasilY = convo_edge(image, kernelY, jenis)\n",
    "    M = np.sqrt((hasilX ** 2) + (hasilY ** 2))\n",
    "    return M\n",
    "\n",
    "def thresholding(citra, ambang):\n",
    "    height, width = citra.shape\n",
    "    hasil = np.zeros((height, width), dtype=np.uint8)\n",
    "\n",
    "    for i in range(height):\n",
    "        for j in range(width):\n",
    "            if citra[i, j] >= ambang:\n",
    "                hasil[i, j] = 255\n",
    "            else:\n",
    "                hasil[i, j] = 0\n",
    "    return hasil\n",
    "\n",
    "def dilasi(image, kernel):\n",
    "    height, width = image.shape\n",
    "    k_height, k_width = kernel.shape\n",
    "    k_center_y = k_height // 2\n",
    "    k_center_x = k_width // 2\n",
    "\n",
    "    padded_img = np.pad(image, ((k_center_y, k_center_y), (k_center_x, k_center_x)), \n",
    "                        mode='constant', constant_values=0)\n",
    "\n",
    "    hasil = np.zeros_like(image, dtype=np.uint8)\n",
    "\n",
    "    for i in range(height):\n",
    "        for j in range(width):\n",
    "            bagian = padded_img[i:i + k_height, j:j + k_width]\n",
    "            if np.any((bagian == 255) & (kernel == 1)):\n",
    "                hasil[i, j] = 255\n",
    "    return hasil\n",
    "\n",
    "def erosi(image, kernel):\n",
    "    height, width = image.shape\n",
    "    k_height, k_width = kernel.shape\n",
    "    k_center_y = k_height // 2\n",
    "    k_center_x = k_width // 2\n",
    "\n",
    "    padded_img = np.pad(image, ((k_center_y, k_center_y), (k_center_x, k_center_x)), \n",
    "                        mode='constant', constant_values=0)\n",
    "\n",
    "    hasil = np.zeros((height, width), dtype=np.uint8)\n",
    "\n",
    "    for i in range(height):\n",
    "        for j in range(width):\n",
    "            cocok = True\n",
    "            for k in range(k_height):\n",
    "                for l in range(k_width):\n",
    "                    if kernel[k, l] == 1 and padded_img[i + k, j + l] != 255:\n",
    "                        cocok = False\n",
    "                        break\n",
    "                if not cocok:\n",
    "                    break\n",
    "            if cocok:\n",
    "                hasil[i, j] = 255\n",
    "    return hasil\n",
    "\n",
    "def sharpening(img, kernel):\n",
    "    kh, kw = kernel.shape\n",
    "    pad_h, pad_w = kh // 2, kw // 2\n",
    "\n",
    "    padded = np.pad(img, ((pad_h, pad_h), (pad_w, pad_w)), mode='constant', constant_values=0)\n",
    "    output = np.zeros_like(img, dtype=np.float32)\n",
    "\n",
    "    for y in range(img.shape[0]):\n",
    "        for x in range(img.shape[1]):\n",
    "            region = padded[y:y+kh, x:x+kw]\n",
    "            value = np.sum(region * kernel)\n",
    "            output[y, x] = np.clip(value, 0, 255)\n",
    "\n",
    "    return output.astype(np.uint8)\n",
    "\n",
    "def gradientMorfologi(img, kernel):\n",
    "    imgD = dilasi(img, kernel)\n",
    "    imgE = erosi(imgD, kernel)\n",
    "    hasil = imgD - imgE\n",
    "    return hasil\n",
    "\n",
    "\n",
    "\n",
    "# Kernel\n",
    "kernelSharpening = np.array([[0, -0.25, 0],\n",
    "                             [-0.25, 2, -0.25],\n",
    "                             [0, -0.25, 0]])\n",
    "\n",
    "robertX = np.array([[1, 0],\n",
    "                    [0, -1]])\n",
    "\n",
    "robertY = np.array([[0, 1],\n",
    "                    [-1, 0]])\n",
    "\n",
    "kernelMorfologi = np.array([[0, 1, 0],\n",
    "                            [1, 1, 1],\n",
    "                            [0, 1, 0]])\n",
    "\n"
   ]
  },
  {
   "cell_type": "markdown",
   "metadata": {},
   "source": [
    "### Preprocessing"
   ]
  },
  {
   "cell_type": "code",
   "execution_count": 38,
   "metadata": {},
   "outputs": [],
   "source": [
    "# pada bagian ini bisa gunakan data yang sebelum augmentasi atau setelah augmentasi\n",
    "dataPreprocessed = []\n",
    "for i in range(len(data_augmented)): # Loop through each image and do preprocessing\n",
    "\timg = data_augmented[i]\n",
    "\t# img = cropResize(img,256)  \n",
    "\timg = sharpening(img, kernelSharpening)  \n",
    "\timg = deteksi_tepi(img, robertX, robertY, 'robert')\n",
    "\timg = thresholding(img, 64)\n",
    "\tdataPreprocessed.append(img)"
   ]
  },
  {
   "cell_type": "markdown",
   "metadata": {},
   "source": [
    "### Feature Extraction"
   ]
  },
  {
   "cell_type": "code",
   "execution_count": 28,
   "metadata": {},
   "outputs": [],
   "source": [
    "def glcm(image, derajat):\n",
    "    if derajat == 0:\n",
    "        angles = [0]\n",
    "    elif derajat == 45:\n",
    "        angles = [np.pi / 4]\n",
    "    elif derajat == 90:\n",
    "        angles = [np.pi / 2]\n",
    "    elif derajat == 135:\n",
    "        angles = [3 * np.pi / 4]\n",
    "    else:\n",
    "        raise ValueError(\"Invalid angle. It should be one of the following: 0, 45, 90, 135.\")\n",
    "    \n",
    "    # mengembalikan matrix glcm dari image\n",
    "    glcm = graycomatrix(image, [1], angles, 256, symmetric=True, normed=True)\n",
    "    return glcm"
   ]
  },
  {
   "cell_type": "code",
   "execution_count": 29,
   "metadata": {},
   "outputs": [],
   "source": [
    "def correlation(matriks):\n",
    "\treturn graycoprops(matriks, 'correlation')[0, 0]"
   ]
  },
  {
   "cell_type": "code",
   "execution_count": 30,
   "metadata": {},
   "outputs": [],
   "source": [
    "def dissimilarity(matriks):\n",
    "    return graycoprops(matriks, 'dissimilarity')[0, 0]"
   ]
  },
  {
   "cell_type": "code",
   "execution_count": 31,
   "metadata": {},
   "outputs": [],
   "source": [
    "def homogenity(matriks):\n",
    "    return graycoprops(matriks, 'homogeneity')[0, 0]"
   ]
  },
  {
   "cell_type": "code",
   "execution_count": 32,
   "metadata": {},
   "outputs": [],
   "source": [
    "def contrast(matriks):\n",
    "    return graycoprops(matriks, 'contrast')[0, 0]"
   ]
  },
  {
   "cell_type": "code",
   "execution_count": 33,
   "metadata": {},
   "outputs": [],
   "source": [
    "def ASM(matriks):\n",
    "    return graycoprops(matriks, 'ASM')[0, 0]"
   ]
  },
  {
   "cell_type": "code",
   "execution_count": 34,
   "metadata": {},
   "outputs": [],
   "source": [
    "def energy(matriks):\n",
    "    return graycoprops(matriks, 'energy')[0, 0]"
   ]
  },
  {
   "cell_type": "code",
   "execution_count": 35,
   "metadata": {},
   "outputs": [],
   "source": [
    "def entropyGlcm(matriks):\n",
    "    return entropy(matriks.ravel())"
   ]
  },
  {
   "cell_type": "code",
   "execution_count": null,
   "metadata": {},
   "outputs": [],
   "source": [
    "# Contoh loop untuk data preprocessed\n",
    "Derajat0 = []\n",
    "Derajat45 = []\n",
    "Derajat90 = []\n",
    "Derajat135 = []\n",
    "\n",
    "for i in range(len(dataPreprocessed)):\n",
    "    # FIX: pastikan gambar bertipe uint8 sebelum masuk ke glcm\n",
    "    img_uint8 = np.clip(dataPreprocessed[i], 0, 255).astype(np.uint8)\n",
    "\n",
    "    D0 = glcm(img_uint8, 0)\n",
    "    D45 = glcm(img_uint8, 45)\n",
    "    D90 = glcm(img_uint8, 90)\n",
    "    D135 = glcm(img_uint8, 135)\n",
    "\n",
    "    Derajat0.append(D0)\n",
    "    Derajat45.append(D45)\n",
    "    Derajat90.append(D90)\n",
    "    Derajat135.append(D135)"
   ]
  },
  {
   "cell_type": "code",
   "execution_count": 40,
   "metadata": {},
   "outputs": [],
   "source": [
    "Kontras0, Kontras45, Kontras90, Kontras135 = [], [], [], []\n",
    "dissimilarity0, dissimilarity45, dissimilarity90, dissimilarity135 =  [], [], [], []\n",
    "homogenity0, homogenity45, homogenity90, homogenity135 = [], [], [], []\n",
    "entropy0, entropy45, entropy90, entropy135 =  [], [], [], []\n",
    "ASM0, ASM45, ASM90, ASM135 =  [], [], [], []\n",
    "energy0, energy45, energy90, energy135 =  [], [], [], []\n",
    "correlation0, correlation45, correlation90, correlation135 = [], [], [], []"
   ]
  },
  {
   "cell_type": "code",
   "execution_count": 41,
   "metadata": {},
   "outputs": [],
   "source": [
    "for i in range(len(dataPreprocessed)):\n",
    "    C0 = correlation(Derajat0[i])\n",
    "    correlation0.append(C0)\n",
    "    C45 = correlation(Derajat45[i])\n",
    "    correlation45.append(C45)\n",
    "    C90 = correlation(Derajat90[i])\n",
    "    correlation90.append(C90)\n",
    "    C135 = correlation(Derajat135[i])\n",
    "    correlation135.append(C135)"
   ]
  },
  {
   "cell_type": "code",
   "execution_count": 42,
   "metadata": {},
   "outputs": [],
   "source": [
    "for i in range(len(dataPreprocessed)):\n",
    "    K0 = contrast(Derajat0[i])\n",
    "    K45 = contrast(Derajat45[i])\n",
    "    K90 = contrast(Derajat90[i])\n",
    "    K135 = contrast(Derajat135[i])\n",
    "    Kontras0.append(K0)\n",
    "    Kontras45.append(K45)\n",
    "    Kontras90.append(K90)\n",
    "    Kontras135.append(K135)"
   ]
  },
  {
   "cell_type": "code",
   "execution_count": 43,
   "metadata": {},
   "outputs": [],
   "source": [
    "for i in range(len(dataPreprocessed)):\n",
    "    Dis0 = dissimilarity(Derajat0[i])\n",
    "    Dis45 = dissimilarity(Derajat45[i])\n",
    "    Dis90 = dissimilarity(Derajat90[i])\n",
    "    Dis135 = dissimilarity(Derajat135[i])\n",
    "    dissimilarity0.append(Dis0)\n",
    "    dissimilarity45.append(Dis45)\n",
    "    dissimilarity90.append(Dis90)\n",
    "    dissimilarity135.append(Dis135)"
   ]
  },
  {
   "cell_type": "code",
   "execution_count": 44,
   "metadata": {},
   "outputs": [],
   "source": [
    "for i in range(len(dataPreprocessed)):\n",
    "    H0 = homogenity(Derajat0[i])\n",
    "    H45 = homogenity(Derajat45[i])\n",
    "    H90 = homogenity(Derajat90[i])\n",
    "    H135 = homogenity(Derajat135[i])\n",
    "    homogenity0.append(H0)\n",
    "    homogenity45.append(H45)\n",
    "    homogenity90.append(H90)\n",
    "    homogenity135.append(H135)"
   ]
  },
  {
   "cell_type": "code",
   "execution_count": 45,
   "metadata": {},
   "outputs": [],
   "source": [
    "for i in range(len(dataPreprocessed)):  \n",
    "    E0 = entropyGlcm(Derajat0[i])\n",
    "    E45 = entropyGlcm(Derajat45[i])\n",
    "    E90 = entropyGlcm(Derajat90[i])\n",
    "    E135 = entropyGlcm(Derajat135[i])\n",
    "    entropy0.append(E0)\n",
    "    entropy45.append(E45)\n",
    "    entropy90.append(E90)\n",
    "    entropy135.append(E135)"
   ]
  },
  {
   "cell_type": "code",
   "execution_count": 46,
   "metadata": {},
   "outputs": [],
   "source": [
    "for i in range(len(dataPreprocessed)):\n",
    "    A0 = ASM(Derajat0[i])\n",
    "    A45 = ASM(Derajat45[i])\n",
    "    A90 = ASM(Derajat90[i])\n",
    "    A135 = ASM(Derajat135[i])\n",
    "    ASM0.append(A0)\n",
    "    ASM45.append(A45)\n",
    "    ASM90.append(A90)\n",
    "    ASM135.append(A135)"
   ]
  },
  {
   "cell_type": "code",
   "execution_count": 47,
   "metadata": {},
   "outputs": [],
   "source": [
    "for i in range(len(dataPreprocessed)):\n",
    "    ER0 = energy(Derajat0[i])\n",
    "    ER45 = energy(Derajat45[i])\n",
    "    ER90 = energy(Derajat90[i])\n",
    "    ER135 = energy(Derajat135[i])\n",
    "    energy0.append(ER0)\n",
    "    energy45.append(ER45)\n",
    "    energy90.append(ER90)\n",
    "    energy135.append(ER135)"
   ]
  },
  {
   "cell_type": "markdown",
   "metadata": {},
   "source": [
    "### Write the extraction's results to CSV "
   ]
  },
  {
   "cell_type": "code",
   "execution_count": 48,
   "metadata": {},
   "outputs": [
    {
     "name": "stdout",
     "output_type": "stream",
     "text": [
      "Panjang masing-masing list:\n",
      "Filename: 60\n",
      "Label: 60\n",
      "Kontras0: 240\n",
      "Kontras45: 240\n",
      "Kontras90: 240\n",
      "Kontras135: 240\n",
      "Homogeneity0: 240\n",
      "Homogeneity45: 240\n",
      "Homogeneity90: 240\n",
      "Homogeneity135: 240\n",
      "Dissimilarity0: 240\n",
      "Dissimilarity45: 240\n",
      "Dissimilarity90: 240\n",
      "Dissimilarity135: 240\n",
      "Entropy0: 240\n",
      "Entropy45: 240\n",
      "Entropy90: 240\n",
      "Entropy135: 240\n",
      "ASM0: 240\n",
      "ASM45: 240\n",
      "ASM90: 240\n",
      "ASM135: 240\n",
      "Energy0: 240\n",
      "Energy45: 240\n",
      "Energy90: 240\n",
      "Energy135: 240\n",
      "Correlation0: 240\n",
      "Correlation45: 240\n",
      "Correlation90: 240\n",
      "Correlation135: 240\n"
     ]
    }
   ],
   "source": [
    "print(\"Panjang masing-masing list:\")\n",
    "print(\"Filename:\", len(file_name))\n",
    "print(\"Label:\", len(labels))\n",
    "print(\"Kontras0:\", len(Kontras0))\n",
    "print(\"Kontras45:\", len(Kontras45))\n",
    "print(\"Kontras90:\", len(Kontras90))\n",
    "print(\"Kontras135:\", len(Kontras135))\n",
    "print(\"Homogeneity0:\", len(homogenity0))\n",
    "print(\"Homogeneity45:\", len(homogenity45))\n",
    "print(\"Homogeneity90:\", len(homogenity90))\n",
    "print(\"Homogeneity135:\", len(homogenity135))\n",
    "print(\"Dissimilarity0:\", len(dissimilarity0))\n",
    "print(\"Dissimilarity45:\", len(dissimilarity45))\n",
    "print(\"Dissimilarity90:\", len(dissimilarity90))\n",
    "print(\"Dissimilarity135:\", len(dissimilarity135))\n",
    "print(\"Entropy0:\", len(entropy0))\n",
    "print(\"Entropy45:\", len(entropy45))\n",
    "print(\"Entropy90:\", len(entropy90))\n",
    "print(\"Entropy135:\", len(entropy135))\n",
    "print(\"ASM0:\", len(ASM0))\n",
    "print(\"ASM45:\", len(ASM45))\n",
    "print(\"ASM90:\", len(ASM90))\n",
    "print(\"ASM135:\", len(ASM135))\n",
    "print(\"Energy0:\", len(energy0))\n",
    "print(\"Energy45:\", len(energy45))\n",
    "print(\"Energy90:\", len(energy90))\n",
    "print(\"Energy135:\", len(energy135))\n",
    "print(\"Correlation0:\", len(correlation0))\n",
    "print(\"Correlation45:\", len(correlation45))\n",
    "print(\"Correlation90:\", len(correlation90))\n",
    "print(\"Correlation135:\", len(correlation135))\n"
   ]
  },
  {
   "cell_type": "code",
   "execution_count": 49,
   "metadata": {},
   "outputs": [
    {
     "data": {
      "text/html": [
       "<div>\n",
       "<style scoped>\n",
       "    .dataframe tbody tr th:only-of-type {\n",
       "        vertical-align: middle;\n",
       "    }\n",
       "\n",
       "    .dataframe tbody tr th {\n",
       "        vertical-align: top;\n",
       "    }\n",
       "\n",
       "    .dataframe thead th {\n",
       "        text-align: right;\n",
       "    }\n",
       "</style>\n",
       "<table border=\"1\" class=\"dataframe\">\n",
       "  <thead>\n",
       "    <tr style=\"text-align: right;\">\n",
       "      <th></th>\n",
       "      <th>Filename</th>\n",
       "      <th>Label</th>\n",
       "      <th>Contrast0</th>\n",
       "      <th>Contrast45</th>\n",
       "      <th>Contrast90</th>\n",
       "      <th>Contrast135</th>\n",
       "      <th>Homogeneity0</th>\n",
       "      <th>Homogeneity45</th>\n",
       "      <th>Homogeneity90</th>\n",
       "      <th>Homogeneity135</th>\n",
       "      <th>...</th>\n",
       "      <th>ASM90</th>\n",
       "      <th>ASM135</th>\n",
       "      <th>Energy0</th>\n",
       "      <th>Energy45</th>\n",
       "      <th>Energy90</th>\n",
       "      <th>Energy135</th>\n",
       "      <th>Correlation0</th>\n",
       "      <th>Correlation45</th>\n",
       "      <th>Correlation90</th>\n",
       "      <th>Correlation135</th>\n",
       "    </tr>\n",
       "  </thead>\n",
       "  <tbody>\n",
       "    <tr>\n",
       "      <th>0</th>\n",
       "      <td>puyuh-9.jpg</td>\n",
       "      <td>puyuh</td>\n",
       "      <td>8786.542969</td>\n",
       "      <td>10707.0</td>\n",
       "      <td>8358.222656</td>\n",
       "      <td>10528.0</td>\n",
       "      <td>0.864876</td>\n",
       "      <td>0.835343</td>\n",
       "      <td>0.871463</td>\n",
       "      <td>0.838096</td>\n",
       "      <td>...</td>\n",
       "      <td>0.589151</td>\n",
       "      <td>0.567055</td>\n",
       "      <td>0.764396</td>\n",
       "      <td>0.751805</td>\n",
       "      <td>0.767562</td>\n",
       "      <td>0.753031</td>\n",
       "      <td>0.547822</td>\n",
       "      <td>0.446042</td>\n",
       "      <td>0.569864</td>\n",
       "      <td>0.455321</td>\n",
       "    </tr>\n",
       "    <tr>\n",
       "      <th>1</th>\n",
       "      <td>puyuh-9.jpg_flip</td>\n",
       "      <td>puyuh</td>\n",
       "      <td>8786.542969</td>\n",
       "      <td>10529.0</td>\n",
       "      <td>8358.222656</td>\n",
       "      <td>10706.0</td>\n",
       "      <td>0.864876</td>\n",
       "      <td>0.838080</td>\n",
       "      <td>0.871463</td>\n",
       "      <td>0.835358</td>\n",
       "      <td>...</td>\n",
       "      <td>0.589151</td>\n",
       "      <td>0.565212</td>\n",
       "      <td>0.764396</td>\n",
       "      <td>0.753030</td>\n",
       "      <td>0.767562</td>\n",
       "      <td>0.751806</td>\n",
       "      <td>0.547822</td>\n",
       "      <td>0.455251</td>\n",
       "      <td>0.569864</td>\n",
       "      <td>0.446112</td>\n",
       "    </tr>\n",
       "    <tr>\n",
       "      <th>2</th>\n",
       "      <td>puyuh-9.jpg_rot</td>\n",
       "      <td>puyuh</td>\n",
       "      <td>9242.753906</td>\n",
       "      <td>11521.0</td>\n",
       "      <td>8968.828125</td>\n",
       "      <td>11153.0</td>\n",
       "      <td>0.857861</td>\n",
       "      <td>0.822825</td>\n",
       "      <td>0.862073</td>\n",
       "      <td>0.828484</td>\n",
       "      <td>...</td>\n",
       "      <td>0.568486</td>\n",
       "      <td>0.545555</td>\n",
       "      <td>0.751972</td>\n",
       "      <td>0.736118</td>\n",
       "      <td>0.753980</td>\n",
       "      <td>0.738617</td>\n",
       "      <td>0.545293</td>\n",
       "      <td>0.432749</td>\n",
       "      <td>0.558782</td>\n",
       "      <td>0.450868</td>\n",
       "    </tr>\n",
       "    <tr>\n",
       "      <th>3</th>\n",
       "      <td>puyuh-9.jpg_bright</td>\n",
       "      <td>puyuh</td>\n",
       "      <td>8720.800781</td>\n",
       "      <td>10647.0</td>\n",
       "      <td>8312.402344</td>\n",
       "      <td>10474.0</td>\n",
       "      <td>0.865887</td>\n",
       "      <td>0.836265</td>\n",
       "      <td>0.872168</td>\n",
       "      <td>0.838926</td>\n",
       "      <td>...</td>\n",
       "      <td>0.590628</td>\n",
       "      <td>0.568578</td>\n",
       "      <td>0.765502</td>\n",
       "      <td>0.752856</td>\n",
       "      <td>0.768523</td>\n",
       "      <td>0.754041</td>\n",
       "      <td>0.549769</td>\n",
       "      <td>0.447359</td>\n",
       "      <td>0.570853</td>\n",
       "      <td>0.456357</td>\n",
       "    </tr>\n",
       "    <tr>\n",
       "      <th>4</th>\n",
       "      <td>puyuh-8.jpg</td>\n",
       "      <td>puyuh</td>\n",
       "      <td>7033.417969</td>\n",
       "      <td>9821.0</td>\n",
       "      <td>7445.800781</td>\n",
       "      <td>9740.0</td>\n",
       "      <td>0.891837</td>\n",
       "      <td>0.848968</td>\n",
       "      <td>0.885495</td>\n",
       "      <td>0.850214</td>\n",
       "      <td>...</td>\n",
       "      <td>0.651027</td>\n",
       "      <td>0.627054</td>\n",
       "      <td>0.809912</td>\n",
       "      <td>0.791324</td>\n",
       "      <td>0.806863</td>\n",
       "      <td>0.791867</td>\n",
       "      <td>0.563108</td>\n",
       "      <td>0.384998</td>\n",
       "      <td>0.537492</td>\n",
       "      <td>0.390097</td>\n",
       "    </tr>\n",
       "    <tr>\n",
       "      <th>...</th>\n",
       "      <td>...</td>\n",
       "      <td>...</td>\n",
       "      <td>...</td>\n",
       "      <td>...</td>\n",
       "      <td>...</td>\n",
       "      <td>...</td>\n",
       "      <td>...</td>\n",
       "      <td>...</td>\n",
       "      <td>...</td>\n",
       "      <td>...</td>\n",
       "      <td>...</td>\n",
       "      <td>...</td>\n",
       "      <td>...</td>\n",
       "      <td>...</td>\n",
       "      <td>...</td>\n",
       "      <td>...</td>\n",
       "      <td>...</td>\n",
       "      <td>...</td>\n",
       "      <td>...</td>\n",
       "      <td>...</td>\n",
       "      <td>...</td>\n",
       "    </tr>\n",
       "    <tr>\n",
       "      <th>235</th>\n",
       "      <td>bebek-7.jpg_bright</td>\n",
       "      <td>bebek</td>\n",
       "      <td>1131.562500</td>\n",
       "      <td>1785.0</td>\n",
       "      <td>1127.578125</td>\n",
       "      <td>1800.0</td>\n",
       "      <td>0.982598</td>\n",
       "      <td>0.972549</td>\n",
       "      <td>0.982660</td>\n",
       "      <td>0.972319</td>\n",
       "      <td>...</td>\n",
       "      <td>0.931304</td>\n",
       "      <td>0.928394</td>\n",
       "      <td>0.964875</td>\n",
       "      <td>0.963653</td>\n",
       "      <td>0.965041</td>\n",
       "      <td>0.963532</td>\n",
       "      <td>0.664811</td>\n",
       "      <td>0.385550</td>\n",
       "      <td>0.664304</td>\n",
       "      <td>0.380590</td>\n",
       "    </tr>\n",
       "    <tr>\n",
       "      <th>236</th>\n",
       "      <td>bebek-6.jpg</td>\n",
       "      <td>bebek</td>\n",
       "      <td>855.644531</td>\n",
       "      <td>1418.0</td>\n",
       "      <td>923.378906</td>\n",
       "      <td>1442.0</td>\n",
       "      <td>0.986842</td>\n",
       "      <td>0.978193</td>\n",
       "      <td>0.985800</td>\n",
       "      <td>0.977824</td>\n",
       "      <td>...</td>\n",
       "      <td>0.946275</td>\n",
       "      <td>0.944431</td>\n",
       "      <td>0.973453</td>\n",
       "      <td>0.972000</td>\n",
       "      <td>0.972767</td>\n",
       "      <td>0.971818</td>\n",
       "      <td>0.666048</td>\n",
       "      <td>0.356434</td>\n",
       "      <td>0.642545</td>\n",
       "      <td>0.345542</td>\n",
       "    </tr>\n",
       "    <tr>\n",
       "      <th>237</th>\n",
       "      <td>bebek-6.jpg_flip</td>\n",
       "      <td>bebek</td>\n",
       "      <td>841.699219</td>\n",
       "      <td>1428.0</td>\n",
       "      <td>923.378906</td>\n",
       "      <td>1404.0</td>\n",
       "      <td>0.987056</td>\n",
       "      <td>0.978040</td>\n",
       "      <td>0.985800</td>\n",
       "      <td>0.978409</td>\n",
       "      <td>...</td>\n",
       "      <td>0.946275</td>\n",
       "      <td>0.944782</td>\n",
       "      <td>0.973455</td>\n",
       "      <td>0.971817</td>\n",
       "      <td>0.972767</td>\n",
       "      <td>0.971999</td>\n",
       "      <td>0.673197</td>\n",
       "      <td>0.355847</td>\n",
       "      <td>0.642545</td>\n",
       "      <td>0.366673</td>\n",
       "    </tr>\n",
       "    <tr>\n",
       "      <th>238</th>\n",
       "      <td>bebek-6.jpg_rot</td>\n",
       "      <td>bebek</td>\n",
       "      <td>1442.343750</td>\n",
       "      <td>2034.0</td>\n",
       "      <td>1422.421875</td>\n",
       "      <td>2066.0</td>\n",
       "      <td>0.977819</td>\n",
       "      <td>0.968720</td>\n",
       "      <td>0.978125</td>\n",
       "      <td>0.968228</td>\n",
       "      <td>...</td>\n",
       "      <td>0.926281</td>\n",
       "      <td>0.919279</td>\n",
       "      <td>0.962102</td>\n",
       "      <td>0.959031</td>\n",
       "      <td>0.962435</td>\n",
       "      <td>0.958790</td>\n",
       "      <td>0.578867</td>\n",
       "      <td>0.373870</td>\n",
       "      <td>0.581923</td>\n",
       "      <td>0.364020</td>\n",
       "    </tr>\n",
       "    <tr>\n",
       "      <th>239</th>\n",
       "      <td>bebek-6.jpg_bright</td>\n",
       "      <td>bebek</td>\n",
       "      <td>854.648438</td>\n",
       "      <td>1717.0</td>\n",
       "      <td>1156.464844</td>\n",
       "      <td>1727.0</td>\n",
       "      <td>0.986857</td>\n",
       "      <td>0.973595</td>\n",
       "      <td>0.982215</td>\n",
       "      <td>0.973441</td>\n",
       "      <td>...</td>\n",
       "      <td>0.938465</td>\n",
       "      <td>0.936690</td>\n",
       "      <td>0.970754</td>\n",
       "      <td>0.967903</td>\n",
       "      <td>0.968744</td>\n",
       "      <td>0.967828</td>\n",
       "      <td>0.705741</td>\n",
       "      <td>0.295038</td>\n",
       "      <td>0.596407</td>\n",
       "      <td>0.290932</td>\n",
       "    </tr>\n",
       "  </tbody>\n",
       "</table>\n",
       "<p>240 rows × 30 columns</p>\n",
       "</div>"
      ],
      "text/plain": [
       "               Filename  Label    Contrast0  Contrast45   Contrast90  \\\n",
       "0           puyuh-9.jpg  puyuh  8786.542969     10707.0  8358.222656   \n",
       "1      puyuh-9.jpg_flip  puyuh  8786.542969     10529.0  8358.222656   \n",
       "2       puyuh-9.jpg_rot  puyuh  9242.753906     11521.0  8968.828125   \n",
       "3    puyuh-9.jpg_bright  puyuh  8720.800781     10647.0  8312.402344   \n",
       "4           puyuh-8.jpg  puyuh  7033.417969      9821.0  7445.800781   \n",
       "..                  ...    ...          ...         ...          ...   \n",
       "235  bebek-7.jpg_bright  bebek  1131.562500      1785.0  1127.578125   \n",
       "236         bebek-6.jpg  bebek   855.644531      1418.0   923.378906   \n",
       "237    bebek-6.jpg_flip  bebek   841.699219      1428.0   923.378906   \n",
       "238     bebek-6.jpg_rot  bebek  1442.343750      2034.0  1422.421875   \n",
       "239  bebek-6.jpg_bright  bebek   854.648438      1717.0  1156.464844   \n",
       "\n",
       "     Contrast135  Homogeneity0  Homogeneity45  Homogeneity90  Homogeneity135  \\\n",
       "0        10528.0      0.864876       0.835343       0.871463        0.838096   \n",
       "1        10706.0      0.864876       0.838080       0.871463        0.835358   \n",
       "2        11153.0      0.857861       0.822825       0.862073        0.828484   \n",
       "3        10474.0      0.865887       0.836265       0.872168        0.838926   \n",
       "4         9740.0      0.891837       0.848968       0.885495        0.850214   \n",
       "..           ...           ...            ...            ...             ...   \n",
       "235       1800.0      0.982598       0.972549       0.982660        0.972319   \n",
       "236       1442.0      0.986842       0.978193       0.985800        0.977824   \n",
       "237       1404.0      0.987056       0.978040       0.985800        0.978409   \n",
       "238       2066.0      0.977819       0.968720       0.978125        0.968228   \n",
       "239       1727.0      0.986857       0.973595       0.982215        0.973441   \n",
       "\n",
       "     ...     ASM90    ASM135   Energy0  Energy45  Energy90  Energy135  \\\n",
       "0    ...  0.589151  0.567055  0.764396  0.751805  0.767562   0.753031   \n",
       "1    ...  0.589151  0.565212  0.764396  0.753030  0.767562   0.751806   \n",
       "2    ...  0.568486  0.545555  0.751972  0.736118  0.753980   0.738617   \n",
       "3    ...  0.590628  0.568578  0.765502  0.752856  0.768523   0.754041   \n",
       "4    ...  0.651027  0.627054  0.809912  0.791324  0.806863   0.791867   \n",
       "..   ...       ...       ...       ...       ...       ...        ...   \n",
       "235  ...  0.931304  0.928394  0.964875  0.963653  0.965041   0.963532   \n",
       "236  ...  0.946275  0.944431  0.973453  0.972000  0.972767   0.971818   \n",
       "237  ...  0.946275  0.944782  0.973455  0.971817  0.972767   0.971999   \n",
       "238  ...  0.926281  0.919279  0.962102  0.959031  0.962435   0.958790   \n",
       "239  ...  0.938465  0.936690  0.970754  0.967903  0.968744   0.967828   \n",
       "\n",
       "     Correlation0  Correlation45  Correlation90  Correlation135  \n",
       "0        0.547822       0.446042       0.569864        0.455321  \n",
       "1        0.547822       0.455251       0.569864        0.446112  \n",
       "2        0.545293       0.432749       0.558782        0.450868  \n",
       "3        0.549769       0.447359       0.570853        0.456357  \n",
       "4        0.563108       0.384998       0.537492        0.390097  \n",
       "..            ...            ...            ...             ...  \n",
       "235      0.664811       0.385550       0.664304        0.380590  \n",
       "236      0.666048       0.356434       0.642545        0.345542  \n",
       "237      0.673197       0.355847       0.642545        0.366673  \n",
       "238      0.578867       0.373870       0.581923        0.364020  \n",
       "239      0.705741       0.295038       0.596407        0.290932  \n",
       "\n",
       "[240 rows x 30 columns]"
      ]
     },
     "execution_count": 49,
     "metadata": {},
     "output_type": "execute_result"
    }
   ],
   "source": [
    "dataTable = {'Filename': file_name_augmented, 'Label': labels_augmented,\n",
    "        'Contrast0': Kontras0, 'Contrast45': Kontras45, 'Contrast90': Kontras90, 'Contrast135': Kontras135,\n",
    "        'Homogeneity0': homogenity0, 'Homogeneity45': homogenity45, 'Homogeneity90': homogenity90, 'Homogeneity135': homogenity135,\n",
    "        'Dissimilarity0': dissimilarity0, 'Dissimilarity45': dissimilarity45, 'Dissimilarity90': dissimilarity90, 'Dissimilarity135': dissimilarity135,\n",
    "        'Entropy0': entropy0, 'Entropy45': entropy45, 'Entropy90': entropy90, 'Entropy135': entropy135,\n",
    "        'ASM0': ASM0, 'ASM45': ASM45, 'ASM90': ASM90, 'ASM135': ASM135,\n",
    "        'Energy0': energy0, 'Energy45': energy45, 'Energy90': energy90, 'Energy135': energy135,\n",
    "        'Correlation0': correlation0, 'Correlation45': correlation45, 'Correlation90': correlation90, 'Correlation135': correlation135,\n",
    "        }\n",
    "df = pd.DataFrame(dataTable)\n",
    "df.to_csv('hasil_ekstraksi_2.csv', index=False)\n",
    "\n",
    "hasilEkstrak = pd.read_csv('hasil_ekstraksi_2.csv')\n",
    "hasilEkstrak"
   ]
  },
  {
   "cell_type": "markdown",
   "metadata": {},
   "source": [
    "### Features Selection"
   ]
  },
  {
   "cell_type": "markdown",
   "metadata": {},
   "source": [
    "pada bagian seleksi fitur ini bisa menggunakan metode seperti\n",
    "- PCA\n",
    "- LDA\n",
    "- t-SNE\n",
    "- Chi-square\n",
    "- ANOVA\n",
    "- Autoencoder\n",
    "- correlation\n",
    "- dll\n",
    "\n",
    "berikut contoh menggunakan correlation:"
   ]
  },
  {
   "cell_type": "code",
   "execution_count": 50,
   "metadata": {},
   "outputs": [
    {
     "data": {
      "text/plain": [
       "<Axes: >"
      ]
     },
     "execution_count": 50,
     "metadata": {},
     "output_type": "execute_result"
    },
    {
     "data": {
      "image/png": "[encoded data removed]",
      "text/plain": [
       "<Figure size 1700x1700 with 2 Axes>"
      ]
     },
     "metadata": {},
     "output_type": "display_data"
    }
   ],
   "source": [
    "# Menghitung korelasi\n",
    "correlation = hasilEkstrak.drop(columns=['Label','Filename']).corr()\n",
    "\n",
    "# Menyaring fitur yang memiliki korelasi absolut lebih dari 0.95 dengan label\n",
    "threshold = 0.95 # atur threshold ini untuk menentukan seberapa besar korelasi yang ingin disaring\n",
    "selectionFeature = []\n",
    "columns = np.full((correlation.shape[0],), True, dtype=bool)\n",
    "for i in range(correlation.shape[0]):\n",
    "\tfor j in range(i+1, correlation.shape[0]):\n",
    "\t\tif correlation.iloc[i,j] >= threshold:\n",
    "\t\t\tif columns[j]:\n",
    "\t\t\t\tcolumns[j] = False\n",
    "select = hasilEkstrak.drop(columns=['Label','Filename']).columns[columns]\n",
    "x_new = hasilEkstrak[select]\n",
    "x_new\n",
    "y = hasilEkstrak['Label']\n",
    "plt.figure(figsize=(17,17))\n",
    "sns.heatmap(x_new.corr(), annot=True, cmap='Blues', fmt=\".2f\")"
   ]
  },
  {
   "cell_type": "markdown",
   "metadata": {},
   "source": [
    "## Splitting Data"
   ]
  },
  {
   "cell_type": "code",
   "execution_count": 51,
   "metadata": {},
   "outputs": [
    {
     "name": "stdout",
     "output_type": "stream",
     "text": [
      "(192, 6)\n",
      "(48, 6)\n"
     ]
    }
   ],
   "source": [
    "# ubah bagian test_size sesuai kebutuhan\n",
    "# 0.3 = 30% data untuk testing (train/test 70/30)\n",
    "# 0.2 = 20% data untuk testing (train/test 80/20)\n",
    "X_train, X_test, y_train, y_test = train_test_split(x_new, y, test_size=0.2, random_state=42)\n",
    "print(X_train.shape)\n",
    "print(X_test.shape)"
   ]
  },
  {
   "cell_type": "markdown",
   "metadata": {},
   "source": [
    "## Feature Normalization"
   ]
  },
  {
   "cell_type": "markdown",
   "metadata": {},
   "source": [
    "berikut metode normalisasi yang bisa digunakan:\n",
    "- Min-Max Scaling\n",
    "- Standardization (Z-score)\n",
    "- Robust Scaling\n",
    "- MaxAbsScaler\n",
    "- dll\n",
    "\n",
    "berikut contoh menggunakan Standardization (Z-score):"
   ]
  },
  {
   "cell_type": "code",
   "execution_count": 52,
   "metadata": {},
   "outputs": [],
   "source": [
    "# normalisasi mean std\n",
    "X_test = (X_test - X_train.mean()) / X_train.std()\n",
    "X_train = (X_train - X_train.mean()) / X_train.std()"
   ]
  },
  {
   "cell_type": "markdown",
   "metadata": {},
   "source": [
    "## Modeling"
   ]
  },
  {
   "cell_type": "markdown",
   "metadata": {},
   "source": [
    "### Define Model"
   ]
  },
  {
   "cell_type": "code",
   "execution_count": 53,
   "metadata": {},
   "outputs": [],
   "source": [
    "def generateClassificationReport(y_true, y_pred):\n",
    "\tprint(classification_report(y_true, y_pred))\n",
    "\tprint(confusion_matrix(y_true, y_pred))\n",
    "\tprint('Accuracy:', accuracy_score(y_true, y_pred))\n",
    "\n",
    "# Define classifiers\n",
    "rf = RandomForestClassifier(n_estimators=5, random_state=42)\n",
    "svm = SVC(kernel='rbf', random_state=42)\n",
    "knn = KNeighborsClassifier(n_neighbors=5)"
   ]
  },
  {
   "cell_type": "markdown",
   "metadata": {},
   "source": [
    "### Train Random Forest Classifier"
   ]
  },
  {
   "cell_type": "code",
   "execution_count": 54,
   "metadata": {},
   "outputs": [
    {
     "name": "stdout",
     "output_type": "stream",
     "text": [
      "------Training Set------\n",
      "              precision    recall  f1-score   support\n",
      "\n",
      "        ayam       0.97      0.98      0.98        65\n",
      "       bebek       1.00      0.97      0.98        63\n",
      "       puyuh       0.98      1.00      0.99        64\n",
      "\n",
      "    accuracy                           0.98       192\n",
      "   macro avg       0.98      0.98      0.98       192\n",
      "weighted avg       0.98      0.98      0.98       192\n",
      "\n",
      "[[64  0  1]\n",
      " [ 2 61  0]\n",
      " [ 0  0 64]]\n",
      "Accuracy: 0.984375\n",
      "\n",
      "------Testing Set------\n",
      "              precision    recall  f1-score   support\n",
      "\n",
      "        ayam       0.88      0.93      0.90        15\n",
      "       bebek       1.00      0.94      0.97        17\n",
      "       puyuh       0.94      0.94      0.94        16\n",
      "\n",
      "    accuracy                           0.94        48\n",
      "   macro avg       0.94      0.94      0.94        48\n",
      "weighted avg       0.94      0.94      0.94        48\n",
      "\n",
      "[[14  0  1]\n",
      " [ 1 16  0]\n",
      " [ 1  0 15]]\n",
      "Accuracy: 0.9375\n"
     ]
    }
   ],
   "source": [
    "# Train Random Forest Classifier\n",
    "rf.fit(X_train, y_train)\n",
    "\n",
    "# Make predictions and evaluate the model with the training set\n",
    "print(\"------Training Set------\")\n",
    "y_pred = rf.predict(X_train)\n",
    "generateClassificationReport( y_train, y_pred)\n",
    "\n",
    "# Make predictions and evaluate the model with the testing set\n",
    "print(\"\\n------Testing Set------\")\n",
    "y_pred = rf.predict(X_test)\n",
    "generateClassificationReport( y_test, y_pred)"
   ]
  },
  {
   "cell_type": "markdown",
   "metadata": {},
   "source": [
    "### Train SVM Classifier"
   ]
  },
  {
   "cell_type": "code",
   "execution_count": 55,
   "metadata": {},
   "outputs": [
    {
     "name": "stdout",
     "output_type": "stream",
     "text": [
      "\n",
      "------Training Set------\n",
      "              precision    recall  f1-score   support\n",
      "\n",
      "        ayam       0.95      0.89      0.92        65\n",
      "       bebek       0.91      0.95      0.93        63\n",
      "       puyuh       0.98      1.00      0.99        64\n",
      "\n",
      "    accuracy                           0.95       192\n",
      "   macro avg       0.95      0.95      0.95       192\n",
      "weighted avg       0.95      0.95      0.95       192\n",
      "\n",
      "[[58  6  1]\n",
      " [ 3 60  0]\n",
      " [ 0  0 64]]\n",
      "Accuracy: 0.9479166666666666\n",
      "\n",
      "------Testing Set------\n",
      "              precision    recall  f1-score   support\n",
      "\n",
      "        ayam       1.00      0.93      0.97        15\n",
      "       bebek       0.94      1.00      0.97        17\n",
      "       puyuh       1.00      1.00      1.00        16\n",
      "\n",
      "    accuracy                           0.98        48\n",
      "   macro avg       0.98      0.98      0.98        48\n",
      "weighted avg       0.98      0.98      0.98        48\n",
      "\n",
      "[[14  1  0]\n",
      " [ 0 17  0]\n",
      " [ 0  0 16]]\n",
      "Accuracy: 0.9791666666666666\n"
     ]
    }
   ],
   "source": [
    "# Train SVM Classifier\n",
    "svm.fit(X_train, y_train)\n",
    "\n",
    "# Make predictions and evaluate the model with the training set\n",
    "print(\"\\n------Training Set------\")\n",
    "y_pred = svm.predict(X_train)\n",
    "generateClassificationReport( y_train, y_pred)\n",
    "\n",
    "# Make predictions and evaluate the model with the testing set\n",
    "print(\"\\n------Testing Set------\")\n",
    "y_pred = svm.predict(X_test)\n",
    "generateClassificationReport( y_test, y_pred)"
   ]
  },
  {
   "cell_type": "markdown",
   "metadata": {},
   "source": [
    "### Train KNN Classifier"
   ]
  },
  {
   "cell_type": "code",
   "execution_count": 56,
   "metadata": {},
   "outputs": [
    {
     "name": "stdout",
     "output_type": "stream",
     "text": [
      "\n",
      "------Training Set------\n",
      "              precision    recall  f1-score   support\n",
      "\n",
      "        ayam       0.95      0.94      0.95        65\n",
      "       bebek       0.94      0.94      0.94        63\n",
      "       puyuh       0.98      1.00      0.99        64\n",
      "\n",
      "    accuracy                           0.96       192\n",
      "   macro avg       0.96      0.96      0.96       192\n",
      "weighted avg       0.96      0.96      0.96       192\n",
      "\n",
      "[[61  4  0]\n",
      " [ 3 59  1]\n",
      " [ 0  0 64]]\n",
      "Accuracy: 0.9583333333333334\n",
      "\n",
      "------Testing Set------\n",
      "              precision    recall  f1-score   support\n",
      "\n",
      "        ayam       0.93      0.93      0.93        15\n",
      "       bebek       0.94      0.88      0.91        17\n",
      "       puyuh       0.94      1.00      0.97        16\n",
      "\n",
      "    accuracy                           0.94        48\n",
      "   macro avg       0.94      0.94      0.94        48\n",
      "weighted avg       0.94      0.94      0.94        48\n",
      "\n",
      "[[14  1  0]\n",
      " [ 1 15  1]\n",
      " [ 0  0 16]]\n",
      "Accuracy: 0.9375\n"
     ]
    }
   ],
   "source": [
    "# Train KNN Classifier\n",
    "knn.fit(X_train, y_train)\n",
    "\n",
    "# Make predictions and evaluate the model with the training set\n",
    "print(\"\\n------Training Set------\")\n",
    "y_pred = knn.predict(X_train)\n",
    "generateClassificationReport( y_train, y_pred)\n",
    "\n",
    "# Make predictions and evaluate the model with the testing set\n",
    "print(\"\\n------Testing Set------\")\n",
    "y_pred = knn.predict(X_test)\n",
    "generateClassificationReport( y_test, y_pred)"
   ]
  },
  {
   "cell_type": "markdown",
   "metadata": {},
   "source": [
    "## Evaluation With Confusion Matrix"
   ]
  },
  {
   "cell_type": "code",
   "execution_count": 57,
   "metadata": {},
   "outputs": [
    {
     "data": {
      "image/png": "[encoded data removed]",
      "text/plain": [
       "<Figure size 640x480 with 2 Axes>"
      ]
     },
     "metadata": {},
     "output_type": "display_data"
    },
    {
     "data": {
      "image/png": "[encoded data removed]",
      "text/plain": [
       "<Figure size 640x480 with 2 Axes>"
      ]
     },
     "metadata": {},
     "output_type": "display_data"
    },
    {
     "data": {
      "image/png": "[encoded data removed]",
      "text/plain": [
       "<Figure size 640x480 with 2 Axes>"
      ]
     },
     "metadata": {},
     "output_type": "display_data"
    }
   ],
   "source": [
    "def plot_confusion_matrix(y_true, y_pred, title):\n",
    "    cm = confusion_matrix(y_true, y_pred)\n",
    "    disp = ConfusionMatrixDisplay(confusion_matrix=cm)\n",
    "    disp.plot(cmap=plt.cm.Blues)\n",
    "    plt.title(title)\n",
    "    plt.show()\n",
    "\n",
    "# Plot confusion matrix for Random Forest\n",
    "plot_confusion_matrix(y_test, rf.predict(X_test), \"Random Forest Confusion Matrix\")\n",
    "# Plot confusion matrix for SVM\n",
    "plot_confusion_matrix(y_test, svm.predict(X_test), \"SVM Confusion Matrix\")\n",
    "# Plot confusion matrix for KNN\n",
    "plot_confusion_matrix(y_test, knn.predict(X_test), \"KNN Confusion Matrix\")"
   ]
  },
  {
   "cell_type": "code",
   "execution_count": null,
   "metadata": {},
   "outputs": [],
   "source": []
  }
 ],
 "metadata": {
  "kernelspec": {
   "display_name": "Python 3",
   "language": "python",
   "name": "python3"
  },
  "language_info": {
   "codemirror_mode": {
    "name": "ipython",
    "version": 3
   },
   "file_extension": ".py",
   "mimetype": "text/x-python",
   "name": "python",
   "nbconvert_exporter": "python",
   "pygments_lexer": "ipython3",
   "version": "3.12.1"
  }
 },
 "nbformat": 4,
 "nbformat_minor": 2
}
