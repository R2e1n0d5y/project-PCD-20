{
 "cells": [
  {
   "cell_type": "code",
   "execution_count": 11,
   "metadata": {},
   "outputs": [],
   "source": [
    "# Import library yang kalian butuhkan\n",
    "import os\n",
    "import cv2 as cv\n",
    "import matplotlib.pyplot as plt\n",
    "import numpy as np\n",
    "import pandas as pd\n",
    "from sklearn.model_selection import train_test_split, cross_val_predict\n",
    "from sklearn.metrics import accuracy_score, classification_report\n",
    "from skimage.feature import graycomatrix, graycoprops\n",
    "from scipy.stats import entropy\n",
    "from sklearn.ensemble import RandomForestClassifier\n",
    "from sklearn.svm import SVC\n",
    "from sklearn.neighbors import KNeighborsClassifier\n",
    "from sklearn.metrics import accuracy_score, precision_score, recall_score, f1_score, confusion_matrix, classification_report\n",
    "from sklearn.metrics import (confusion_matrix, ConfusionMatrixDisplay)\n",
    "import seaborn as sns"
   ]
  },
  {
   "cell_type": "markdown",
   "metadata": {},
   "source": [
    "## Data Loading"
   ]
  },
  {
   "cell_type": "markdown",
   "metadata": {},
   "source": [
    "Buat struktur folder dataset sebagai berikut:\n",
    "```\n",
    ".\n",
    "└──dataset\n",
    "    ├── label1\n",
    "\t├── image1.jpg\n",
    "\t├── image2.jpg\n",
    "\t└── image3.jpg\n",
    "    ├── label2\n",
    "    └── label3\n",
    "    └── dst...\n",
    "```"
   ]
  },
  {
   "cell_type": "code",
   "execution_count": 12,
   "metadata": {},
   "outputs": [],
   "source": [
    "def cropResize(img, resize):\n",
    "    h, w = img.shape[:2]\n",
    "    min_dim = min(h, w)\n",
    "\n",
    "    start_x = (w - min_dim) // 2\n",
    "    start_y = (h - min_dim) // 2\n",
    "\n",
    "    cropped_img = img[start_y:start_y + min_dim, start_x:start_x + min_dim]\n",
    "\n",
    "    resize_img = cv.resize(cropped_img, (resize,resize))\n",
    "\n",
    "    return resize_img"
   ]
  },
  {
   "cell_type": "code",
   "execution_count": 13,
   "metadata": {},
   "outputs": [],
   "source": [
    "data = []\n",
    "labels = []\n",
    "file_name = []\n",
    "for sub_folder in os.listdir(\"dataset/\"):\n",
    "    sub_folder_files = os.listdir(os.path.join(\"dataset/\", sub_folder))\n",
    "    for i, filename in enumerate(sub_folder_files):\n",
    "        img_path = os.path.join(\"dataset/\", sub_folder, filename)\n",
    "        img = cv.imread(img_path)\n",
    "        img = img.astype(np.uint8)\n",
    "        img = cv.cvtColor(img, cv.COLOR_BGR2GRAY)\n",
    "        img = cropResize(img, 256)\n",
    "        \n",
    "        data.append(img)\n",
    "        labels.append(sub_folder)\n",
    "        name = os.path.splitext(filename)[0]\n",
    "        file_name.append(filename)\n",
    "        \n",
    "data = np.array(data)\n",
    "labels = np.array(labels)\n",
    "file_name = np.array(file_name)"
   ]
  },
  {
   "cell_type": "markdown",
   "metadata": {},
   "source": [
    "## Data Augmentation"
   ]
  },
  {
   "cell_type": "markdown",
   "metadata": {},
   "source": [
    "### Define Augmentation Function\n"
   ]
  },
  {
   "cell_type": "code",
   "execution_count": 14,
   "metadata": {},
   "outputs": [],
   "source": [
    "def flip_horizontal(img):\n",
    "    flipped = img[:, ::-1].copy()\n",
    "    return flipped\n",
    "\n",
    "def rotate_image(img, angle_degrees):\n",
    "    angle = np.deg2rad(angle_degrees)\n",
    "    cos_a, sin_a = np.cos(angle), np.sin(angle)\n",
    "    \n",
    "    h, w = img.shape\n",
    "    cx, cy = w // 2, h // 2\n",
    "    \n",
    "    rotated = np.zeros_like(img)\n",
    "\n",
    "    for y in range(h):\n",
    "        for x in range(w):\n",
    "            x_rel, y_rel = x - cx, y - cy\n",
    "            orig_x = int(cx + x_rel * cos_a + y_rel * sin_a)\n",
    "            orig_y = int(cy - x_rel * sin_a + y_rel * cos_a)\n",
    "            \n",
    "            if 0 <= orig_x < w and 0 <= orig_y < h:\n",
    "                rotated[y, x] = img[orig_y, orig_x]\n",
    "    \n",
    "    return rotated\n",
    "\n",
    "def adjust_brightness(img, beta):\n",
    "    bright = img.astype(np.int16) + beta\n",
    "    bright = np.clip(bright, 0, 255)\n",
    "    return bright.astype(np.uint8)\n",
    "\n",
    "def augment_image(img):\n",
    "    augmented_images = []\n",
    "    augmented_images.append(flip_horizontal(img))     # Flip\n",
    "    augmented_images.append(rotate_image(img, 15))    # Rotate 15 deg\n",
    "    augmented_images.append(adjust_brightness(img, 10))  # Brightness +10\n",
    "    return augmented_images"
   ]
  },
  {
   "cell_type": "markdown",
   "metadata": {},
   "source": [
    "### Augmentation Process"
   ]
  },
  {
   "cell_type": "code",
   "execution_count": 15,
   "metadata": {},
   "outputs": [],
   "source": [
    "data_augmented = []\n",
    "labels_augmented = []\n",
    "file_name_augmented = []\n",
    "\n",
    "for i in range(len(data)):\n",
    "    img = data[i]\n",
    "    label = labels[i]\n",
    "    fname = file_name[i]\n",
    "\n",
    "    data_augmented.append(img)\n",
    "    labels_augmented.append(label)\n",
    "    file_name_augmented.append(fname)\n",
    "\n",
    "    augmented_imgs = augment_image(img)\n",
    "    suffixes = ['_flip', '_rot', '_bright']\n",
    "    \n",
    "    for aug_img, suffix in zip(augmented_imgs, suffixes):\n",
    "        data_augmented.append(aug_img)\n",
    "        labels_augmented.append(label)\n",
    "        file_name_augmented.append(fname + suffix)"
   ]
  },
  {
   "cell_type": "code",
   "execution_count": 16,
   "metadata": {},
   "outputs": [
    {
     "name": "stdout",
     "output_type": "stream",
     "text": [
      "Data sebelum augmentasi:  60\n",
      "Data setelah augmentasi:  240\n"
     ]
    }
   ],
   "source": [
    "print(\"Data sebelum augmentasi: \", len(data))\n",
    "print(\"Data setelah augmentasi: \", len(data_augmented))"
   ]
  },
  {
   "cell_type": "markdown",
   "metadata": {},
   "source": [
    "## Data Preparation"
   ]
  },
  {
   "cell_type": "markdown",
   "metadata": {},
   "source": [
    "### Define Preprocessing Function\n"
   ]
  },
  {
   "cell_type": "code",
   "execution_count": 45,
   "metadata": {},
   "outputs": [],
   "source": [
    "def padding_baris(image):\n",
    "    height, width = image.shape\n",
    "    img_pad = np.zeros((height, width+1), dtype=image.dtype)\n",
    "    for i in range(height):\n",
    "        for j in range(width):\n",
    "            img_pad[i][j] = image[i][j]\n",
    "    return img_pad\n",
    "\n",
    "def padding_kolom(image):\n",
    "    height, width = image.shape\n",
    "    img_pad = np.zeros((height+1, width), dtype=image.dtype)\n",
    "    for i in range(height):\n",
    "        for j in range(width):\n",
    "            img_pad[i][j] = image[i][j]\n",
    "    return img_pad\n",
    "\n",
    "def convo_edge(image, kernel, jenis):\n",
    "    img_height, img_width = image.shape\n",
    "    kernel_height, kernel_width = kernel.shape\n",
    "    pad_height = kernel_height // 2\n",
    "    pad_width = kernel_width // 2\n",
    "\n",
    "    if jenis != 'robert':\n",
    "        padded_img = np.pad(image, ((pad_height, pad_height), (pad_width, pad_width)), mode='constant')\n",
    "    else:\n",
    "        padded_baris = padding_baris(image)\n",
    "        padded_img = padding_kolom(padded_baris)\n",
    "\n",
    "    result = np.zeros((img_height, img_width), dtype=np.float32)\n",
    "\n",
    "    for i in range(img_height):\n",
    "        for j in range(img_width):\n",
    "            result[i, j] = np.sum(padded_img[i:i+kernel_height, j:j+kernel_width] * kernel)\n",
    "\n",
    "    return result\n",
    "\n",
    "def deteksi_tepi(image, kernelX, kernelY, jenis):\n",
    "    hasilX = convo_edge(image, kernelX, jenis)\n",
    "    hasilY = convo_edge(image, kernelY, jenis)\n",
    "    M = np.sqrt((hasilX ** 2) + (hasilY ** 2))\n",
    "    return M\n",
    "\n",
    "def thresholding(citra, ambang):\n",
    "    height, width = citra.shape\n",
    "    hasil = np.zeros((height, width), dtype=np.uint8)\n",
    "\n",
    "    for i in range(height):\n",
    "        for j in range(width):\n",
    "            if citra[i, j] >= ambang:\n",
    "                hasil[i, j] = 255\n",
    "            else:\n",
    "                hasil[i, j] = 0\n",
    "    return hasil\n",
    "\n",
    "def dilasi(image, kernel):\n",
    "    height, width = image.shape\n",
    "    k_height, k_width = kernel.shape\n",
    "    k_center_y = k_height // 2\n",
    "    k_center_x = k_width // 2\n",
    "\n",
    "    padded_img = np.pad(image, ((k_center_y, k_center_y), (k_center_x, k_center_x)), \n",
    "                        mode='constant', constant_values=0)\n",
    "\n",
    "    hasil = np.zeros_like(image, dtype=np.uint8)\n",
    "\n",
    "    for i in range(height):\n",
    "        for j in range(width):\n",
    "            bagian = padded_img[i:i + k_height, j:j + k_width]\n",
    "            if np.any((bagian == 255) & (kernel == 1)):\n",
    "                hasil[i, j] = 255\n",
    "    return hasil\n",
    "\n",
    "def erosi(image, kernel):\n",
    "    height, width = image.shape\n",
    "    k_height, k_width = kernel.shape\n",
    "    k_center_y = k_height // 2\n",
    "    k_center_x = k_width // 2\n",
    "\n",
    "    padded_img = np.pad(image, ((k_center_y, k_center_y), (k_center_x, k_center_x)), \n",
    "                        mode='constant', constant_values=0)\n",
    "\n",
    "    hasil = np.zeros((height, width), dtype=np.uint8)\n",
    "\n",
    "    for i in range(height):\n",
    "        for j in range(width):\n",
    "            cocok = True\n",
    "            for k in range(k_height):\n",
    "                for l in range(k_width):\n",
    "                    if kernel[k, l] == 1 and padded_img[i + k, j + l] != 255:\n",
    "                        cocok = False\n",
    "                        break\n",
    "                if not cocok:\n",
    "                    break\n",
    "            if cocok:\n",
    "                hasil[i, j] = 255\n",
    "    return hasil\n",
    "\n",
    "def sharpening(img, kernel):\n",
    "    kh, kw = kernel.shape\n",
    "    pad_h, pad_w = kh // 2, kw // 2\n",
    "\n",
    "    padded = np.pad(img, ((pad_h, pad_h), (pad_w, pad_w)), mode='constant', constant_values=0)\n",
    "    output = np.zeros_like(img, dtype=np.float32)\n",
    "\n",
    "    for y in range(img.shape[0]):\n",
    "        for x in range(img.shape[1]):\n",
    "            region = padded[y:y+kh, x:x+kw]\n",
    "            value = np.sum(region * kernel)\n",
    "            output[y, x] = np.clip(value, 0, 255)\n",
    "\n",
    "    return output.astype(np.uint8)\n",
    "\n",
    "def gradientMorfologi(img, kernel):\n",
    "    imgD = dilasi(img, kernel)\n",
    "    imgE = erosi(imgD, kernel)\n",
    "    hasil = imgD - imgE\n",
    "    return hasil\n",
    "\n",
    "\n",
    "\n",
    "# Kernel\n",
    "kernelSharpening = np.array([[0, -0.25, 0],\n",
    "                             [-0.25, 2, -0.25],\n",
    "                             [0, -0.25, 0]])\n",
    "\n",
    "robertX = np.array([[1, 0],\n",
    "                    [0, -1]])\n",
    "\n",
    "robertY = np.array([[0, 1],\n",
    "                    [-1, 0]])\n",
    "\n",
    "kernelMorfologi = np.array([[0, 1, 0],\n",
    "                            [1, 1, 1],\n",
    "                            [0, 1, 0]])\n",
    "\n"
   ]
  },
  {
   "cell_type": "markdown",
   "metadata": {},
   "source": [
    "### Preprocessing"
   ]
  },
  {
   "cell_type": "code",
   "execution_count": 18,
   "metadata": {},
   "outputs": [],
   "source": [
    "# pada bagian ini bisa gunakan data yang sebelum augmentasi atau setelah augmentasi\n",
    "dataPreprocessed = []\n",
    "for i in range(len(data_augmented)): # Loop through each image and do preprocessing\n",
    "\timg = data_augmented[i]\n",
    "\t# img = cropResize(img,256)  \n",
    "\timg = sharpening(img, kernelSharpening)  \n",
    "\tdataPreprocessed.append(img)"
   ]
  },
  {
   "cell_type": "markdown",
   "metadata": {},
   "source": [
    "### Feature Extraction"
   ]
  },
  {
   "cell_type": "code",
   "execution_count": 19,
   "metadata": {},
   "outputs": [],
   "source": [
    "def glcm(image, derajat):\n",
    "    if derajat == 0:\n",
    "        angles = [0]\n",
    "    elif derajat == 45:\n",
    "        angles = [np.pi / 4]\n",
    "    elif derajat == 90:\n",
    "        angles = [np.pi / 2]\n",
    "    elif derajat == 135:\n",
    "        angles = [3 * np.pi / 4]\n",
    "    else:\n",
    "        raise ValueError(\"Invalid angle. It should be one of the following: 0, 45, 90, 135.\")\n",
    "    \n",
    "    # mengembalikan matrix glcm dari image\n",
    "    glcm = graycomatrix(image, [1], angles, 256, symmetric=True, normed=True)\n",
    "    return glcm"
   ]
  },
  {
   "cell_type": "code",
   "execution_count": 20,
   "metadata": {},
   "outputs": [],
   "source": [
    "def correlation(matriks):\n",
    "\treturn graycoprops(matriks, 'correlation')[0, 0]"
   ]
  },
  {
   "cell_type": "code",
   "execution_count": 21,
   "metadata": {},
   "outputs": [],
   "source": [
    "def dissimilarity(matriks):\n",
    "    return graycoprops(matriks, 'dissimilarity')[0, 0]"
   ]
  },
  {
   "cell_type": "code",
   "execution_count": 22,
   "metadata": {},
   "outputs": [],
   "source": [
    "def homogenity(matriks):\n",
    "    return graycoprops(matriks, 'homogeneity')[0, 0]"
   ]
  },
  {
   "cell_type": "code",
   "execution_count": 23,
   "metadata": {},
   "outputs": [],
   "source": [
    "def contrast(matriks):\n",
    "    return graycoprops(matriks, 'contrast')[0, 0]"
   ]
  },
  {
   "cell_type": "code",
   "execution_count": 24,
   "metadata": {},
   "outputs": [],
   "source": [
    "def ASM(matriks):\n",
    "    return graycoprops(matriks, 'ASM')[0, 0]"
   ]
  },
  {
   "cell_type": "code",
   "execution_count": 25,
   "metadata": {},
   "outputs": [],
   "source": [
    "def energy(matriks):\n",
    "    return graycoprops(matriks, 'energy')[0, 0]"
   ]
  },
  {
   "cell_type": "code",
   "execution_count": 26,
   "metadata": {},
   "outputs": [],
   "source": [
    "def entropyGlcm(matriks):\n",
    "    return entropy(matriks.ravel())"
   ]
  },
  {
   "cell_type": "code",
   "execution_count": 27,
   "metadata": {},
   "outputs": [],
   "source": [
    "Derajat0 = []\n",
    "Derajat45 = []\n",
    "Derajat90 = []\n",
    "Derajat135 = []\n",
    "for i in range(len(dataPreprocessed)):\n",
    "    D0 = glcm(dataPreprocessed[i], 0)\n",
    "    D45 = glcm(dataPreprocessed[i], 45)\n",
    "    D90 = glcm(dataPreprocessed[i], 90)\n",
    "    D135 = glcm(dataPreprocessed[i], 135)\n",
    "    Derajat0.append(D0)\n",
    "    Derajat45.append(D45)\n",
    "    Derajat90.append(D90)\n",
    "    Derajat135.append(D135)"
   ]
  },
  {
   "cell_type": "code",
   "execution_count": 28,
   "metadata": {},
   "outputs": [],
   "source": [
    "Kontras0, Kontras45, Kontras90, Kontras135 = [], [], [], []\n",
    "dissimilarity0, dissimilarity45, dissimilarity90, dissimilarity135 =  [], [], [], []\n",
    "homogenity0, homogenity45, homogenity90, homogenity135 = [], [], [], []\n",
    "entropy0, entropy45, entropy90, entropy135 =  [], [], [], []\n",
    "ASM0, ASM45, ASM90, ASM135 =  [], [], [], []\n",
    "energy0, energy45, energy90, energy135 =  [], [], [], []\n",
    "correlation0, correlation45, correlation90, correlation135 = [], [], [], []\n"
   ]
  },
  {
   "cell_type": "code",
   "execution_count": 29,
   "metadata": {},
   "outputs": [],
   "source": [
    "for i in range(len(dataPreprocessed)):\n",
    "    C0 = correlation(Derajat0[i])\n",
    "    correlation0.append(C0)\n",
    "    C45 = correlation(Derajat45[i])\n",
    "    correlation45.append(C45)\n",
    "    C90 = correlation(Derajat90[i])\n",
    "    correlation90.append(C90)\n",
    "    C135 = correlation(Derajat135[i])\n",
    "    correlation135.append(C135)"
   ]
  },
  {
   "cell_type": "code",
   "execution_count": 30,
   "metadata": {},
   "outputs": [],
   "source": [
    "for i in range(len(dataPreprocessed)):\n",
    "    K0 = contrast(Derajat0[i])\n",
    "    K45 = contrast(Derajat45[i])\n",
    "    K90 = contrast(Derajat90[i])\n",
    "    K135 = contrast(Derajat135[i])\n",
    "    Kontras0.append(K0)\n",
    "    Kontras45.append(K45)\n",
    "    Kontras90.append(K90)\n",
    "    Kontras135.append(K135)"
   ]
  },
  {
   "cell_type": "code",
   "execution_count": 31,
   "metadata": {},
   "outputs": [],
   "source": [
    "for i in range(len(dataPreprocessed)):\n",
    "    Dis0 = dissimilarity(Derajat0[i])\n",
    "    Dis45 = dissimilarity(Derajat45[i])\n",
    "    Dis90 = dissimilarity(Derajat90[i])\n",
    "    Dis135 = dissimilarity(Derajat135[i])\n",
    "    dissimilarity0.append(Dis0)\n",
    "    dissimilarity45.append(Dis45)\n",
    "    dissimilarity90.append(Dis90)\n",
    "    dissimilarity135.append(Dis135)"
   ]
  },
  {
   "cell_type": "code",
   "execution_count": 32,
   "metadata": {},
   "outputs": [],
   "source": [
    "for i in range(len(dataPreprocessed)):\n",
    "    H0 = homogenity(Derajat0[i])\n",
    "    H45 = homogenity(Derajat45[i])\n",
    "    H90 = homogenity(Derajat90[i])\n",
    "    H135 = homogenity(Derajat135[i])\n",
    "    homogenity0.append(H0)\n",
    "    homogenity45.append(H45)\n",
    "    homogenity90.append(H90)\n",
    "    homogenity135.append(H135)"
   ]
  },
  {
   "cell_type": "code",
   "execution_count": 33,
   "metadata": {},
   "outputs": [],
   "source": [
    "for i in range(len(dataPreprocessed)):  \n",
    "    E0 = entropyGlcm(Derajat0[i])\n",
    "    E45 = entropyGlcm(Derajat45[i])\n",
    "    E90 = entropyGlcm(Derajat90[i])\n",
    "    E135 = entropyGlcm(Derajat135[i])\n",
    "    entropy0.append(E0)\n",
    "    entropy45.append(E45)\n",
    "    entropy90.append(E90)\n",
    "    entropy135.append(E135)"
   ]
  },
  {
   "cell_type": "code",
   "execution_count": 34,
   "metadata": {},
   "outputs": [],
   "source": [
    "for i in range(len(dataPreprocessed)):\n",
    "    A0 = ASM(Derajat0[i])\n",
    "    A45 = ASM(Derajat45[i])\n",
    "    A90 = ASM(Derajat90[i])\n",
    "    A135 = ASM(Derajat135[i])\n",
    "    ASM0.append(A0)\n",
    "    ASM45.append(A45)\n",
    "    ASM90.append(A90)\n",
    "    ASM135.append(A135)"
   ]
  },
  {
   "cell_type": "code",
   "execution_count": 35,
   "metadata": {},
   "outputs": [],
   "source": [
    "for i in range(len(dataPreprocessed)):\n",
    "    ER0 = energy(Derajat0[i])\n",
    "    ER45 = energy(Derajat45[i])\n",
    "    ER90 = energy(Derajat90[i])\n",
    "    ER135 = energy(Derajat135[i])\n",
    "    energy0.append(ER0)\n",
    "    energy45.append(ER45)\n",
    "    energy90.append(ER90)\n",
    "    energy135.append(ER135)"
   ]
  },
  {
   "cell_type": "markdown",
   "metadata": {},
   "source": [
    "### Write the extraction's results to CSV "
   ]
  },
  {
   "cell_type": "code",
   "execution_count": 36,
   "metadata": {},
   "outputs": [
    {
     "data": {
      "text/html": [
       "<div>\n",
       "<style scoped>\n",
       "    .dataframe tbody tr th:only-of-type {\n",
       "        vertical-align: middle;\n",
       "    }\n",
       "\n",
       "    .dataframe tbody tr th {\n",
       "        vertical-align: top;\n",
       "    }\n",
       "\n",
       "    .dataframe thead th {\n",
       "        text-align: right;\n",
       "    }\n",
       "</style>\n",
       "<table border=\"1\" class=\"dataframe\">\n",
       "  <thead>\n",
       "    <tr style=\"text-align: right;\">\n",
       "      <th></th>\n",
       "      <th>Filename</th>\n",
       "      <th>Label</th>\n",
       "      <th>Contrast0</th>\n",
       "      <th>Contrast45</th>\n",
       "      <th>Contrast90</th>\n",
       "      <th>Contrast135</th>\n",
       "      <th>Homogeneity0</th>\n",
       "      <th>Homogeneity45</th>\n",
       "      <th>Homogeneity90</th>\n",
       "      <th>Homogeneity135</th>\n",
       "      <th>...</th>\n",
       "      <th>ASM90</th>\n",
       "      <th>ASM135</th>\n",
       "      <th>Energy0</th>\n",
       "      <th>Energy45</th>\n",
       "      <th>Energy90</th>\n",
       "      <th>Energy135</th>\n",
       "      <th>Correlation0</th>\n",
       "      <th>Correlation45</th>\n",
       "      <th>Correlation90</th>\n",
       "      <th>Correlation135</th>\n",
       "    </tr>\n",
       "  </thead>\n",
       "  <tbody>\n",
       "    <tr>\n",
       "      <th>0</th>\n",
       "      <td>puyuh-9.jpg</td>\n",
       "      <td>puyuh</td>\n",
       "      <td>1726.672518</td>\n",
       "      <td>2096.260269</td>\n",
       "      <td>1608.916085</td>\n",
       "      <td>2011.024468</td>\n",
       "      <td>0.553887</td>\n",
       "      <td>0.537743</td>\n",
       "      <td>0.547722</td>\n",
       "      <td>0.537172</td>\n",
       "      <td>...</td>\n",
       "      <td>0.236709</td>\n",
       "      <td>0.232503</td>\n",
       "      <td>0.485557</td>\n",
       "      <td>0.481579</td>\n",
       "      <td>0.486528</td>\n",
       "      <td>0.482185</td>\n",
       "      <td>0.828674</td>\n",
       "      <td>0.792444</td>\n",
       "      <td>0.840358</td>\n",
       "      <td>0.800883</td>\n",
       "    </tr>\n",
       "    <tr>\n",
       "      <th>1</th>\n",
       "      <td>puyuh-9.jpg_flip</td>\n",
       "      <td>puyuh</td>\n",
       "      <td>1726.672518</td>\n",
       "      <td>2011.024468</td>\n",
       "      <td>1608.916085</td>\n",
       "      <td>2096.260269</td>\n",
       "      <td>0.553887</td>\n",
       "      <td>0.537172</td>\n",
       "      <td>0.547722</td>\n",
       "      <td>0.537743</td>\n",
       "      <td>...</td>\n",
       "      <td>0.236709</td>\n",
       "      <td>0.231919</td>\n",
       "      <td>0.485557</td>\n",
       "      <td>0.482185</td>\n",
       "      <td>0.486528</td>\n",
       "      <td>0.481579</td>\n",
       "      <td>0.828674</td>\n",
       "      <td>0.800883</td>\n",
       "      <td>0.840358</td>\n",
       "      <td>0.792444</td>\n",
       "    </tr>\n",
       "    <tr>\n",
       "      <th>2</th>\n",
       "      <td>puyuh-9.jpg_rot</td>\n",
       "      <td>puyuh</td>\n",
       "      <td>2293.832184</td>\n",
       "      <td>2672.952495</td>\n",
       "      <td>2207.170573</td>\n",
       "      <td>2548.972488</td>\n",
       "      <td>0.545148</td>\n",
       "      <td>0.533953</td>\n",
       "      <td>0.542595</td>\n",
       "      <td>0.533828</td>\n",
       "      <td>...</td>\n",
       "      <td>0.164582</td>\n",
       "      <td>0.162140</td>\n",
       "      <td>0.405323</td>\n",
       "      <td>0.401769</td>\n",
       "      <td>0.405687</td>\n",
       "      <td>0.402666</td>\n",
       "      <td>0.863450</td>\n",
       "      <td>0.839999</td>\n",
       "      <td>0.868609</td>\n",
       "      <td>0.847420</td>\n",
       "    </tr>\n",
       "    <tr>\n",
       "      <th>3</th>\n",
       "      <td>puyuh-9.jpg_bright</td>\n",
       "      <td>puyuh</td>\n",
       "      <td>1721.221017</td>\n",
       "      <td>2093.037632</td>\n",
       "      <td>1610.203370</td>\n",
       "      <td>2011.736532</td>\n",
       "      <td>0.569642</td>\n",
       "      <td>0.557107</td>\n",
       "      <td>0.563580</td>\n",
       "      <td>0.556690</td>\n",
       "      <td>...</td>\n",
       "      <td>0.282365</td>\n",
       "      <td>0.279080</td>\n",
       "      <td>0.530355</td>\n",
       "      <td>0.527634</td>\n",
       "      <td>0.531380</td>\n",
       "      <td>0.528280</td>\n",
       "      <td>0.812300</td>\n",
       "      <td>0.772279</td>\n",
       "      <td>0.824407</td>\n",
       "      <td>0.781125</td>\n",
       "    </tr>\n",
       "    <tr>\n",
       "      <th>4</th>\n",
       "      <td>puyuh-8.jpg</td>\n",
       "      <td>puyuh</td>\n",
       "      <td>1014.266115</td>\n",
       "      <td>1571.585236</td>\n",
       "      <td>1127.380668</td>\n",
       "      <td>1562.997001</td>\n",
       "      <td>0.491938</td>\n",
       "      <td>0.471658</td>\n",
       "      <td>0.491120</td>\n",
       "      <td>0.473559</td>\n",
       "      <td>...</td>\n",
       "      <td>0.156487</td>\n",
       "      <td>0.152817</td>\n",
       "      <td>0.395378</td>\n",
       "      <td>0.389955</td>\n",
       "      <td>0.395584</td>\n",
       "      <td>0.390918</td>\n",
       "      <td>0.897588</td>\n",
       "      <td>0.841642</td>\n",
       "      <td>0.886166</td>\n",
       "      <td>0.842507</td>\n",
       "    </tr>\n",
       "    <tr>\n",
       "      <th>...</th>\n",
       "      <td>...</td>\n",
       "      <td>...</td>\n",
       "      <td>...</td>\n",
       "      <td>...</td>\n",
       "      <td>...</td>\n",
       "      <td>...</td>\n",
       "      <td>...</td>\n",
       "      <td>...</td>\n",
       "      <td>...</td>\n",
       "      <td>...</td>\n",
       "      <td>...</td>\n",
       "      <td>...</td>\n",
       "      <td>...</td>\n",
       "      <td>...</td>\n",
       "      <td>...</td>\n",
       "      <td>...</td>\n",
       "      <td>...</td>\n",
       "      <td>...</td>\n",
       "      <td>...</td>\n",
       "      <td>...</td>\n",
       "      <td>...</td>\n",
       "    </tr>\n",
       "    <tr>\n",
       "      <th>235</th>\n",
       "      <td>bebek-7.jpg_bright</td>\n",
       "      <td>bebek</td>\n",
       "      <td>86.294332</td>\n",
       "      <td>136.921538</td>\n",
       "      <td>76.926670</td>\n",
       "      <td>138.606920</td>\n",
       "      <td>0.750636</td>\n",
       "      <td>0.633779</td>\n",
       "      <td>0.704940</td>\n",
       "      <td>0.631503</td>\n",
       "      <td>...</td>\n",
       "      <td>0.018624</td>\n",
       "      <td>0.014822</td>\n",
       "      <td>0.139806</td>\n",
       "      <td>0.121938</td>\n",
       "      <td>0.136470</td>\n",
       "      <td>0.121745</td>\n",
       "      <td>0.960007</td>\n",
       "      <td>0.935901</td>\n",
       "      <td>0.964294</td>\n",
       "      <td>0.935112</td>\n",
       "    </tr>\n",
       "    <tr>\n",
       "      <th>236</th>\n",
       "      <td>bebek-6.jpg</td>\n",
       "      <td>bebek</td>\n",
       "      <td>67.421109</td>\n",
       "      <td>127.214348</td>\n",
       "      <td>79.331786</td>\n",
       "      <td>125.086521</td>\n",
       "      <td>0.675827</td>\n",
       "      <td>0.552762</td>\n",
       "      <td>0.622261</td>\n",
       "      <td>0.552954</td>\n",
       "      <td>...</td>\n",
       "      <td>0.016594</td>\n",
       "      <td>0.013514</td>\n",
       "      <td>0.132123</td>\n",
       "      <td>0.115515</td>\n",
       "      <td>0.128817</td>\n",
       "      <td>0.116249</td>\n",
       "      <td>0.972320</td>\n",
       "      <td>0.946954</td>\n",
       "      <td>0.967204</td>\n",
       "      <td>0.947841</td>\n",
       "    </tr>\n",
       "    <tr>\n",
       "      <th>237</th>\n",
       "      <td>bebek-6.jpg_flip</td>\n",
       "      <td>bebek</td>\n",
       "      <td>67.421109</td>\n",
       "      <td>125.086521</td>\n",
       "      <td>79.331786</td>\n",
       "      <td>127.214348</td>\n",
       "      <td>0.675827</td>\n",
       "      <td>0.552954</td>\n",
       "      <td>0.622261</td>\n",
       "      <td>0.552762</td>\n",
       "      <td>...</td>\n",
       "      <td>0.016594</td>\n",
       "      <td>0.013344</td>\n",
       "      <td>0.132123</td>\n",
       "      <td>0.116249</td>\n",
       "      <td>0.128817</td>\n",
       "      <td>0.115515</td>\n",
       "      <td>0.972320</td>\n",
       "      <td>0.947841</td>\n",
       "      <td>0.967204</td>\n",
       "      <td>0.946954</td>\n",
       "    </tr>\n",
       "    <tr>\n",
       "      <th>238</th>\n",
       "      <td>bebek-6.jpg_rot</td>\n",
       "      <td>bebek</td>\n",
       "      <td>317.895619</td>\n",
       "      <td>465.998616</td>\n",
       "      <td>340.766115</td>\n",
       "      <td>499.923291</td>\n",
       "      <td>0.638546</td>\n",
       "      <td>0.584174</td>\n",
       "      <td>0.616558</td>\n",
       "      <td>0.576506</td>\n",
       "      <td>...</td>\n",
       "      <td>0.020544</td>\n",
       "      <td>0.018566</td>\n",
       "      <td>0.144043</td>\n",
       "      <td>0.136054</td>\n",
       "      <td>0.143331</td>\n",
       "      <td>0.136257</td>\n",
       "      <td>0.952971</td>\n",
       "      <td>0.930165</td>\n",
       "      <td>0.949618</td>\n",
       "      <td>0.925081</td>\n",
       "    </tr>\n",
       "    <tr>\n",
       "      <th>239</th>\n",
       "      <td>bebek-6.jpg_bright</td>\n",
       "      <td>bebek</td>\n",
       "      <td>66.130499</td>\n",
       "      <td>123.016701</td>\n",
       "      <td>75.216115</td>\n",
       "      <td>121.347220</td>\n",
       "      <td>0.678340</td>\n",
       "      <td>0.555503</td>\n",
       "      <td>0.625050</td>\n",
       "      <td>0.555709</td>\n",
       "      <td>...</td>\n",
       "      <td>0.016743</td>\n",
       "      <td>0.013654</td>\n",
       "      <td>0.132732</td>\n",
       "      <td>0.116125</td>\n",
       "      <td>0.129396</td>\n",
       "      <td>0.116849</td>\n",
       "      <td>0.971802</td>\n",
       "      <td>0.946802</td>\n",
       "      <td>0.967795</td>\n",
       "      <td>0.947524</td>\n",
       "    </tr>\n",
       "  </tbody>\n",
       "</table>\n",
       "<p>240 rows × 30 columns</p>\n",
       "</div>"
      ],
      "text/plain": [
       "               Filename  Label    Contrast0   Contrast45   Contrast90  \\\n",
       "0           puyuh-9.jpg  puyuh  1726.672518  2096.260269  1608.916085   \n",
       "1      puyuh-9.jpg_flip  puyuh  1726.672518  2011.024468  1608.916085   \n",
       "2       puyuh-9.jpg_rot  puyuh  2293.832184  2672.952495  2207.170573   \n",
       "3    puyuh-9.jpg_bright  puyuh  1721.221017  2093.037632  1610.203370   \n",
       "4           puyuh-8.jpg  puyuh  1014.266115  1571.585236  1127.380668   \n",
       "..                  ...    ...          ...          ...          ...   \n",
       "235  bebek-7.jpg_bright  bebek    86.294332   136.921538    76.926670   \n",
       "236         bebek-6.jpg  bebek    67.421109   127.214348    79.331786   \n",
       "237    bebek-6.jpg_flip  bebek    67.421109   125.086521    79.331786   \n",
       "238     bebek-6.jpg_rot  bebek   317.895619   465.998616   340.766115   \n",
       "239  bebek-6.jpg_bright  bebek    66.130499   123.016701    75.216115   \n",
       "\n",
       "     Contrast135  Homogeneity0  Homogeneity45  Homogeneity90  Homogeneity135  \\\n",
       "0    2011.024468      0.553887       0.537743       0.547722        0.537172   \n",
       "1    2096.260269      0.553887       0.537172       0.547722        0.537743   \n",
       "2    2548.972488      0.545148       0.533953       0.542595        0.533828   \n",
       "3    2011.736532      0.569642       0.557107       0.563580        0.556690   \n",
       "4    1562.997001      0.491938       0.471658       0.491120        0.473559   \n",
       "..           ...           ...            ...            ...             ...   \n",
       "235   138.606920      0.750636       0.633779       0.704940        0.631503   \n",
       "236   125.086521      0.675827       0.552762       0.622261        0.552954   \n",
       "237   127.214348      0.675827       0.552954       0.622261        0.552762   \n",
       "238   499.923291      0.638546       0.584174       0.616558        0.576506   \n",
       "239   121.347220      0.678340       0.555503       0.625050        0.555709   \n",
       "\n",
       "     ...     ASM90    ASM135   Energy0  Energy45  Energy90  Energy135  \\\n",
       "0    ...  0.236709  0.232503  0.485557  0.481579  0.486528   0.482185   \n",
       "1    ...  0.236709  0.231919  0.485557  0.482185  0.486528   0.481579   \n",
       "2    ...  0.164582  0.162140  0.405323  0.401769  0.405687   0.402666   \n",
       "3    ...  0.282365  0.279080  0.530355  0.527634  0.531380   0.528280   \n",
       "4    ...  0.156487  0.152817  0.395378  0.389955  0.395584   0.390918   \n",
       "..   ...       ...       ...       ...       ...       ...        ...   \n",
       "235  ...  0.018624  0.014822  0.139806  0.121938  0.136470   0.121745   \n",
       "236  ...  0.016594  0.013514  0.132123  0.115515  0.128817   0.116249   \n",
       "237  ...  0.016594  0.013344  0.132123  0.116249  0.128817   0.115515   \n",
       "238  ...  0.020544  0.018566  0.144043  0.136054  0.143331   0.136257   \n",
       "239  ...  0.016743  0.013654  0.132732  0.116125  0.129396   0.116849   \n",
       "\n",
       "     Correlation0  Correlation45  Correlation90  Correlation135  \n",
       "0        0.828674       0.792444       0.840358        0.800883  \n",
       "1        0.828674       0.800883       0.840358        0.792444  \n",
       "2        0.863450       0.839999       0.868609        0.847420  \n",
       "3        0.812300       0.772279       0.824407        0.781125  \n",
       "4        0.897588       0.841642       0.886166        0.842507  \n",
       "..            ...            ...            ...             ...  \n",
       "235      0.960007       0.935901       0.964294        0.935112  \n",
       "236      0.972320       0.946954       0.967204        0.947841  \n",
       "237      0.972320       0.947841       0.967204        0.946954  \n",
       "238      0.952971       0.930165       0.949618        0.925081  \n",
       "239      0.971802       0.946802       0.967795        0.947524  \n",
       "\n",
       "[240 rows x 30 columns]"
      ]
     },
     "execution_count": 36,
     "metadata": {},
     "output_type": "execute_result"
    }
   ],
   "source": [
    "dataTable = {'Filename': file_name_augmented, 'Label': labels_augmented,\n",
    "        'Contrast0': Kontras0, 'Contrast45': Kontras45, 'Contrast90': Kontras90, 'Contrast135': Kontras135,\n",
    "        'Homogeneity0': homogenity0, 'Homogeneity45': homogenity45, 'Homogeneity90': homogenity90, 'Homogeneity135': homogenity135,\n",
    "        'Dissimilarity0': dissimilarity0, 'Dissimilarity45': dissimilarity45, 'Dissimilarity90': dissimilarity90, 'Dissimilarity135': dissimilarity135,\n",
    "        'Entropy0': entropy0, 'Entropy45': entropy45, 'Entropy90': entropy90, 'Entropy135': entropy135,\n",
    "        'ASM0': ASM0, 'ASM45': ASM45, 'ASM90': ASM90, 'ASM135': ASM135,\n",
    "        'Energy0': energy0, 'Energy45': energy45, 'Energy90': energy90, 'Energy135': energy135,\n",
    "        'Correlation0': correlation0, 'Correlation45': correlation45, 'Correlation90': correlation90, 'Correlation135': correlation135,\n",
    "        }\n",
    "df = pd.DataFrame(dataTable)\n",
    "df.to_csv('hasil_ekstraksi_1.csv', index=False)\n",
    "\n",
    "hasilEkstrak = pd.read_csv('hasil_ekstraksi_1.csv')\n",
    "hasilEkstrak"
   ]
  },
  {
   "cell_type": "markdown",
   "metadata": {},
   "source": [
    "### Features Selection"
   ]
  },
  {
   "cell_type": "markdown",
   "metadata": {},
   "source": [
    "pada bagian seleksi fitur ini bisa menggunakan metode seperti\n",
    "- PCA\n",
    "- LDA\n",
    "- t-SNE\n",
    "- Chi-square\n",
    "- ANOVA\n",
    "- Autoencoder\n",
    "- correlation\n",
    "- dll\n",
    "\n",
    "berikut contoh menggunakan correlation:"
   ]
  },
  {
   "cell_type": "code",
   "execution_count": 37,
   "metadata": {},
   "outputs": [
    {
     "data": {
      "text/plain": [
       "<Axes: >"
      ]
     },
     "execution_count": 37,
     "metadata": {},
     "output_type": "execute_result"
    },
    {
     "data": {
      "image/png": "[encoded data removed]",
      "text/plain": [
       "<Figure size 1700x1700 with 2 Axes>"
      ]
     },
     "metadata": {},
     "output_type": "display_data"
    }
   ],
   "source": [
    "# Menghitung korelasi\n",
    "correlation = hasilEkstrak.drop(columns=['Label','Filename']).corr()\n",
    "\n",
    "# Menyaring fitur yang memiliki korelasi absolut lebih dari 0.95 dengan label\n",
    "threshold = 0.95 # atur threshold ini untuk menentukan seberapa besar korelasi yang ingin disaring\n",
    "selectionFeature = []\n",
    "columns = np.full((correlation.shape[0],), True, dtype=bool)\n",
    "for i in range(correlation.shape[0]):\n",
    "\tfor j in range(i+1, correlation.shape[0]):\n",
    "\t\tif correlation.iloc[i,j] >= threshold:\n",
    "\t\t\tif columns[j]:\n",
    "\t\t\t\tcolumns[j] = False\n",
    "select = hasilEkstrak.drop(columns=['Label','Filename']).columns[columns]\n",
    "x_new = hasilEkstrak[select]\n",
    "x_new\n",
    "y = hasilEkstrak['Label']\n",
    "plt.figure(figsize=(17,17))\n",
    "sns.heatmap(x_new.corr(), annot=True, cmap='Blues', fmt=\".2f\")"
   ]
  },
  {
   "cell_type": "markdown",
   "metadata": {},
   "source": [
    "## Splitting Data"
   ]
  },
  {
   "cell_type": "code",
   "execution_count": 38,
   "metadata": {},
   "outputs": [
    {
     "name": "stdout",
     "output_type": "stream",
     "text": [
      "(192, 6)\n",
      "(48, 6)\n"
     ]
    }
   ],
   "source": [
    "# ubah bagian test_size sesuai kebutuhan\n",
    "# 0.3 = 30% data untuk testing (train/test 70/30)\n",
    "# 0.2 = 20% data untuk testing (train/test 80/20)\n",
    "X_train, X_test, y_train, y_test = train_test_split(x_new, y, test_size=0.2, random_state=42)\n",
    "print(X_train.shape)\n",
    "print(X_test.shape)"
   ]
  },
  {
   "cell_type": "markdown",
   "metadata": {},
   "source": [
    "## Feature Normalization"
   ]
  },
  {
   "cell_type": "markdown",
   "metadata": {},
   "source": [
    "berikut metode normalisasi yang bisa digunakan:\n",
    "- Min-Max Scaling\n",
    "- Standardization (Z-score)\n",
    "- Robust Scaling\n",
    "- MaxAbsScaler\n",
    "- dll\n",
    "\n",
    "berikut contoh menggunakan Standardization (Z-score):"
   ]
  },
  {
   "cell_type": "code",
   "execution_count": 39,
   "metadata": {},
   "outputs": [],
   "source": [
    "# normalisasi mean std\n",
    "X_test = (X_test - X_train.mean()) / X_train.std()\n",
    "X_train = (X_train - X_train.mean()) / X_train.std()"
   ]
  },
  {
   "cell_type": "markdown",
   "metadata": {},
   "source": [
    "## Modeling"
   ]
  },
  {
   "cell_type": "markdown",
   "metadata": {},
   "source": [
    "### Define Model"
   ]
  },
  {
   "cell_type": "code",
   "execution_count": 40,
   "metadata": {},
   "outputs": [],
   "source": [
    "def generateClassificationReport(y_true, y_pred):\n",
    "\tprint(classification_report(y_true, y_pred))\n",
    "\tprint(confusion_matrix(y_true, y_pred))\n",
    "\tprint('Accuracy:', accuracy_score(y_true, y_pred))\n",
    "\n",
    "# Define classifiers\n",
    "rf = RandomForestClassifier(n_estimators=5, random_state=42)\n",
    "svm = SVC(kernel='rbf', random_state=42)\n",
    "knn = KNeighborsClassifier(n_neighbors=5)"
   ]
  },
  {
   "cell_type": "markdown",
   "metadata": {},
   "source": [
    "### Train Random Forest Classifier"
   ]
  },
  {
   "cell_type": "code",
   "execution_count": 41,
   "metadata": {},
   "outputs": [
    {
     "name": "stdout",
     "output_type": "stream",
     "text": [
      "------Training Set------\n",
      "              precision    recall  f1-score   support\n",
      "\n",
      "        ayam       1.00      1.00      1.00        65\n",
      "       bebek       1.00      1.00      1.00        63\n",
      "       puyuh       1.00      1.00      1.00        64\n",
      "\n",
      "    accuracy                           1.00       192\n",
      "   macro avg       1.00      1.00      1.00       192\n",
      "weighted avg       1.00      1.00      1.00       192\n",
      "\n",
      "[[65  0  0]\n",
      " [ 0 63  0]\n",
      " [ 0  0 64]]\n",
      "Accuracy: 1.0\n",
      "\n",
      "------Testing Set------\n",
      "              precision    recall  f1-score   support\n",
      "\n",
      "        ayam       1.00      1.00      1.00        15\n",
      "       bebek       1.00      1.00      1.00        17\n",
      "       puyuh       1.00      1.00      1.00        16\n",
      "\n",
      "    accuracy                           1.00        48\n",
      "   macro avg       1.00      1.00      1.00        48\n",
      "weighted avg       1.00      1.00      1.00        48\n",
      "\n",
      "[[15  0  0]\n",
      " [ 0 17  0]\n",
      " [ 0  0 16]]\n",
      "Accuracy: 1.0\n"
     ]
    }
   ],
   "source": [
    "# Train Random Forest Classifier\n",
    "rf.fit(X_train, y_train)\n",
    "\n",
    "# Make predictions and evaluate the model with the training set\n",
    "print(\"------Training Set------\")\n",
    "y_pred = rf.predict(X_train)\n",
    "generateClassificationReport( y_train, y_pred)\n",
    "\n",
    "# Make predictions and evaluate the model with the testing set\n",
    "print(\"\\n------Testing Set------\")\n",
    "y_pred = rf.predict(X_test)\n",
    "generateClassificationReport( y_test, y_pred)"
   ]
  },
  {
   "cell_type": "markdown",
   "metadata": {},
   "source": [
    "### Train SVM Classifier"
   ]
  },
  {
   "cell_type": "code",
   "execution_count": 42,
   "metadata": {},
   "outputs": [
    {
     "name": "stdout",
     "output_type": "stream",
     "text": [
      "\n",
      "------Training Set------\n",
      "              precision    recall  f1-score   support\n",
      "\n",
      "        ayam       0.95      0.92      0.94        65\n",
      "       bebek       0.97      1.00      0.98        63\n",
      "       puyuh       0.95      0.95      0.95        64\n",
      "\n",
      "    accuracy                           0.96       192\n",
      "   macro avg       0.96      0.96      0.96       192\n",
      "weighted avg       0.96      0.96      0.96       192\n",
      "\n",
      "[[60  2  3]\n",
      " [ 0 63  0]\n",
      " [ 3  0 61]]\n",
      "Accuracy: 0.9583333333333334\n",
      "\n",
      "------Testing Set------\n",
      "              precision    recall  f1-score   support\n",
      "\n",
      "        ayam       1.00      0.80      0.89        15\n",
      "       bebek       0.89      1.00      0.94        17\n",
      "       puyuh       0.94      1.00      0.97        16\n",
      "\n",
      "    accuracy                           0.94        48\n",
      "   macro avg       0.95      0.93      0.93        48\n",
      "weighted avg       0.94      0.94      0.94        48\n",
      "\n",
      "[[12  2  1]\n",
      " [ 0 17  0]\n",
      " [ 0  0 16]]\n",
      "Accuracy: 0.9375\n"
     ]
    }
   ],
   "source": [
    "# Train SVM Classifier\n",
    "svm.fit(X_train, y_train)\n",
    "\n",
    "# Make predictions and evaluate the model with the training set\n",
    "print(\"\\n------Training Set------\")\n",
    "y_pred = svm.predict(X_train)\n",
    "generateClassificationReport( y_train, y_pred)\n",
    "\n",
    "# Make predictions and evaluate the model with the testing set\n",
    "print(\"\\n------Testing Set------\")\n",
    "y_pred = svm.predict(X_test)\n",
    "generateClassificationReport( y_test, y_pred)"
   ]
  },
  {
   "cell_type": "markdown",
   "metadata": {},
   "source": [
    "### Train KNN Classifier"
   ]
  },
  {
   "cell_type": "code",
   "execution_count": 43,
   "metadata": {},
   "outputs": [
    {
     "name": "stdout",
     "output_type": "stream",
     "text": [
      "\n",
      "------Training Set------\n",
      "              precision    recall  f1-score   support\n",
      "\n",
      "        ayam       1.00      0.94      0.97        65\n",
      "       bebek       0.97      1.00      0.98        63\n",
      "       puyuh       0.97      1.00      0.98        64\n",
      "\n",
      "    accuracy                           0.98       192\n",
      "   macro avg       0.98      0.98      0.98       192\n",
      "weighted avg       0.98      0.98      0.98       192\n",
      "\n",
      "[[61  2  2]\n",
      " [ 0 63  0]\n",
      " [ 0  0 64]]\n",
      "Accuracy: 0.9791666666666666\n",
      "\n",
      "------Testing Set------\n",
      "              precision    recall  f1-score   support\n",
      "\n",
      "        ayam       1.00      0.80      0.89        15\n",
      "       bebek       0.89      1.00      0.94        17\n",
      "       puyuh       0.94      1.00      0.97        16\n",
      "\n",
      "    accuracy                           0.94        48\n",
      "   macro avg       0.95      0.93      0.93        48\n",
      "weighted avg       0.94      0.94      0.94        48\n",
      "\n",
      "[[12  2  1]\n",
      " [ 0 17  0]\n",
      " [ 0  0 16]]\n",
      "Accuracy: 0.9375\n"
     ]
    }
   ],
   "source": [
    "# Train KNN Classifier\n",
    "knn.fit(X_train, y_train)\n",
    "\n",
    "# Make predictions and evaluate the model with the training set\n",
    "print(\"\\n------Training Set------\")\n",
    "y_pred = knn.predict(X_train)\n",
    "generateClassificationReport( y_train, y_pred)\n",
    "\n",
    "# Make predictions and evaluate the model with the testing set\n",
    "print(\"\\n------Testing Set------\")\n",
    "y_pred = knn.predict(X_test)\n",
    "generateClassificationReport( y_test, y_pred)"
   ]
  },
  {
   "cell_type": "markdown",
   "metadata": {},
   "source": [
    "## Evaluation With Confusion Matrix"
   ]
  },
  {
   "cell_type": "code",
   "execution_count": 44,
   "metadata": {},
   "outputs": [
    {
     "data": {
      "image/png": "[encoded data removed]",
      "text/plain": [
       "<Figure size 640x480 with 2 Axes>"
      ]
     },
     "metadata": {},
     "output_type": "display_data"
    },
    {
     "data": {
      "image/png": "[encoded data removed]",
      "text/plain": [
       "<Figure size 640x480 with 2 Axes>"
      ]
     },
     "metadata": {},
     "output_type": "display_data"
    },
    {
     "data": {
      "image/png": "[encoded data removed]",
      "text/plain": [
       "<Figure size 640x480 with 2 Axes>"
      ]
     },
     "metadata": {},
     "output_type": "display_data"
    }
   ],
   "source": [
    "def plot_confusion_matrix(y_true, y_pred, title):\n",
    "    cm = confusion_matrix(y_true, y_pred)\n",
    "    disp = ConfusionMatrixDisplay(confusion_matrix=cm)\n",
    "    disp.plot(cmap=plt.cm.Blues)\n",
    "    plt.title(title)\n",
    "    plt.show()\n",
    "\n",
    "# Plot confusion matrix for Random Forest\n",
    "plot_confusion_matrix(y_test, rf.predict(X_test), \"Random Forest Confusion Matrix\")\n",
    "# Plot confusion matrix for SVM\n",
    "plot_confusion_matrix(y_test, svm.predict(X_test), \"SVM Confusion Matrix\")\n",
    "# Plot confusion matrix for KNN\n",
    "plot_confusion_matrix(y_test, knn.predict(X_test), \"KNN Confusion Matrix\")"
   ]
  }
 ],
 "metadata": {
  "kernelspec": {
   "display_name": "Python 3",
   "language": "python",
   "name": "python3"
  },
  "language_info": {
   "codemirror_mode": {
    "name": "ipython",
    "version": 3
   },
   "file_extension": ".py",
   "mimetype": "text/x-python",
   "name": "python",
   "nbconvert_exporter": "python",
   "pygments_lexer": "ipython3",
   "version": "3.12.1"
  }
 },
 "nbformat": 4,
 "nbformat_minor": 2
}
