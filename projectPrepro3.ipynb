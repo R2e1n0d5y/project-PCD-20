{
 "cells": [
  {
   "cell_type": "code",
   "execution_count": 162,
   "metadata": {},
   "outputs": [],
   "source": [
    "# Import library yang kalian butuhkan\n",
    "import os\n",
    "import cv2 as cv\n",
    "import matplotlib.pyplot as plt\n",
    "import numpy as np\n",
    "import pandas as pd\n",
    "from sklearn.model_selection import train_test_split, cross_val_predict\n",
    "from sklearn.metrics import accuracy_score, classification_report\n",
    "from skimage.feature import graycomatrix, graycoprops\n",
    "from scipy.stats import entropy\n",
    "from sklearn.ensemble import RandomForestClassifier\n",
    "from sklearn.svm import SVC\n",
    "from sklearn.neighbors import KNeighborsClassifier\n",
    "from sklearn.metrics import accuracy_score, precision_score, recall_score, f1_score, confusion_matrix, classification_report\n",
    "from sklearn.metrics import (confusion_matrix, ConfusionMatrixDisplay)\n",
    "import seaborn as sns"
   ]
  },
  {
   "cell_type": "markdown",
   "metadata": {},
   "source": [
    "## Data Loading"
   ]
  },
  {
   "cell_type": "markdown",
   "metadata": {},
   "source": [
    "Buat struktur folder dataset sebagai berikut:\n",
    "```\n",
    ".\n",
    "└──dataset\n",
    "    ├── label1\n",
    "\t├── image1.jpg\n",
    "\t├── image2.jpg\n",
    "\t└── image3.jpg\n",
    "    ├── label2\n",
    "    └── label3\n",
    "    └── dst...\n",
    "```"
   ]
  },
  {
   "cell_type": "code",
   "execution_count": 163,
   "metadata": {},
   "outputs": [],
   "source": [
    "def cropResize(img, resize):\n",
    "    h, w = img.shape[:2]\n",
    "    min_dim = min(h, w)\n",
    "\n",
    "    start_x = (w - min_dim) // 2\n",
    "    start_y = (h - min_dim) // 2\n",
    "\n",
    "    cropped_img = img[start_y:start_y + min_dim, start_x:start_x + min_dim]\n",
    "\n",
    "    resize_img = cv.resize(cropped_img, (resize,resize))\n",
    "\n",
    "    return resize_img"
   ]
  },
  {
   "cell_type": "code",
   "execution_count": 164,
   "metadata": {},
   "outputs": [],
   "source": [
    "data = []\n",
    "labels = []\n",
    "file_name = []\n",
    "for sub_folder in os.listdir(\"dataset/\"):\n",
    "    sub_folder_files = os.listdir(os.path.join(\"dataset/\", sub_folder))\n",
    "    for i, filename in enumerate(sub_folder_files):\n",
    "        img_path = os.path.join(\"dataset/\", sub_folder, filename)\n",
    "        img = cv.imread(img_path)\n",
    "        img = img.astype(np.uint8)\n",
    "        img = cv.cvtColor(img, cv.COLOR_BGR2GRAY)\n",
    "        img = cropResize(img, 256)\n",
    "        \n",
    "        data.append(img)\n",
    "        labels.append(sub_folder)\n",
    "        name = os.path.splitext(filename)[0]\n",
    "        file_name.append(filename)\n",
    "        \n",
    "data = np.array(data)\n",
    "labels = np.array(labels)\n",
    "file_name = np.array(file_name)"
   ]
  },
  {
   "cell_type": "markdown",
   "metadata": {},
   "source": [
    "## Data Augmentation"
   ]
  },
  {
   "cell_type": "markdown",
   "metadata": {},
   "source": [
    "### Define Augmentation Function\n"
   ]
  },
  {
   "cell_type": "code",
   "execution_count": 165,
   "metadata": {},
   "outputs": [],
   "source": [
    "def flip_horizontal(img):\n",
    "    flipped = img[:, ::-1].copy()\n",
    "    return flipped\n",
    "\n",
    "def rotate_image(img, angle_degrees):\n",
    "    angle = np.deg2rad(angle_degrees)\n",
    "    cos_a, sin_a = np.cos(angle), np.sin(angle)\n",
    "    \n",
    "    h, w = img.shape\n",
    "    cx, cy = w // 2, h // 2\n",
    "    \n",
    "    rotated = np.zeros_like(img)\n",
    "\n",
    "    for y in range(h):\n",
    "        for x in range(w):\n",
    "            x_rel, y_rel = x - cx, y - cy\n",
    "            orig_x = int(cx + x_rel * cos_a + y_rel * sin_a)\n",
    "            orig_y = int(cy - x_rel * sin_a + y_rel * cos_a)\n",
    "            \n",
    "            if 0 <= orig_x < w and 0 <= orig_y < h:\n",
    "                rotated[y, x] = img[orig_y, orig_x]\n",
    "    \n",
    "    return rotated\n",
    "\n",
    "def adjust_brightness(img, beta):\n",
    "    bright = img.astype(np.int16) + beta\n",
    "    bright = np.clip(bright, 0, 255)\n",
    "    return bright.astype(np.uint8)\n",
    "\n",
    "def augment_image(img):\n",
    "    augmented_images = []\n",
    "    augmented_images.append(flip_horizontal(img))     # Flip\n",
    "    augmented_images.append(rotate_image(img, 15))    # Rotate 15 deg\n",
    "    augmented_images.append(adjust_brightness(img, 10))  # Brightness +10\n",
    "    return augmented_images"
   ]
  },
  {
   "cell_type": "markdown",
   "metadata": {},
   "source": [
    "### Augmentation Process"
   ]
  },
  {
   "cell_type": "code",
   "execution_count": 166,
   "metadata": {},
   "outputs": [],
   "source": [
    "data_augmented = []\n",
    "labels_augmented = []\n",
    "file_name_augmented = []\n",
    "\n",
    "for i in range(len(data)):\n",
    "    img = data[i]\n",
    "    label = labels[i]\n",
    "    fname = file_name[i]\n",
    "\n",
    "    data_augmented.append(img)\n",
    "    labels_augmented.append(label)\n",
    "    file_name_augmented.append(fname)\n",
    "\n",
    "    augmented_imgs = augment_image(img)\n",
    "    suffixes = ['_flip', '_rot', '_bright']\n",
    "    \n",
    "    for aug_img, suffix in zip(augmented_imgs, suffixes):\n",
    "        data_augmented.append(aug_img)\n",
    "        labels_augmented.append(label)\n",
    "        file_name_augmented.append(fname + suffix)"
   ]
  },
  {
   "cell_type": "code",
   "execution_count": 167,
   "metadata": {},
   "outputs": [
    {
     "name": "stdout",
     "output_type": "stream",
     "text": [
      "Data sebelum augmentasi:  60\n",
      "Data setelah augmentasi:  240\n"
     ]
    }
   ],
   "source": [
    "print(\"Data sebelum augmentasi: \", len(data))\n",
    "print(\"Data setelah augmentasi: \", len(data_augmented))"
   ]
  },
  {
   "cell_type": "markdown",
   "metadata": {},
   "source": [
    "## Data Preparation"
   ]
  },
  {
   "cell_type": "markdown",
   "metadata": {},
   "source": [
    "### Define Preprocessing Function\n"
   ]
  },
  {
   "cell_type": "code",
   "execution_count": null,
   "metadata": {},
   "outputs": [],
   "source": [
    "def padding_baris(image):\n",
    "    height, width = image.shape\n",
    "    img_pad = np.zeros((height, width+1), dtype=image.dtype)\n",
    "    for i in range(height):\n",
    "        for j in range(width):\n",
    "            img_pad[i][j] = image[i][j]\n",
    "    return img_pad\n",
    "\n",
    "def padding_kolom(image):\n",
    "    height, width = image.shape\n",
    "    img_pad = np.zeros((height+1, width), dtype=image.dtype)\n",
    "    for i in range(height):\n",
    "        for j in range(width):\n",
    "            img_pad[i][j] = image[i][j]\n",
    "    return img_pad\n",
    "\n",
    "def convo_edge(image, kernel, jenis):\n",
    "    img_height, img_width = image.shape\n",
    "    kernel_height, kernel_width = kernel.shape\n",
    "    pad_height = kernel_height // 2\n",
    "    pad_width = kernel_width // 2\n",
    "\n",
    "    if jenis != 'robert':\n",
    "        padded_img = np.pad(image, ((pad_height, pad_height), (pad_width, pad_width)), mode='constant')\n",
    "    else:\n",
    "        padded_baris = padding_baris(image)\n",
    "        padded_img = padding_kolom(padded_baris)\n",
    "\n",
    "    result = np.zeros((img_height, img_width), dtype=np.float32)\n",
    "\n",
    "    for i in range(img_height):\n",
    "        for j in range(img_width):\n",
    "            result[i, j] = np.sum(padded_img[i:i+kernel_height, j:j+kernel_width] * kernel)\n",
    "\n",
    "    return result\n",
    "\n",
    "def deteksi_tepi(image, kernelX, kernelY, jenis):\n",
    "    hasilX = convo_edge(image, kernelX, jenis)\n",
    "    hasilY = convo_edge(image, kernelY, jenis)\n",
    "    M = np.sqrt((hasilX ** 2) + (hasilY ** 2))\n",
    "    return M\n",
    "\n",
    "def thresholding(citra, ambang):\n",
    "    height, width = citra.shape\n",
    "    hasil = np.zeros((height, width), dtype=np.uint8)\n",
    "\n",
    "    for i in range(height):\n",
    "        for j in range(width):\n",
    "            if citra[i, j] >= ambang:\n",
    "                hasil[i, j] = 255\n",
    "            else:\n",
    "                hasil[i, j] = 0\n",
    "    return hasil\n",
    "\n",
    "def dilasi(image, kernel):\n",
    "    height, width = image.shape\n",
    "    k_height, k_width = kernel.shape\n",
    "    k_center_y = k_height // 2\n",
    "    k_center_x = k_width // 2\n",
    "\n",
    "    padded_img = np.pad(image, ((k_center_y, k_center_y), (k_center_x, k_center_x)), \n",
    "                        mode='constant', constant_values=0)\n",
    "\n",
    "    hasil = np.zeros_like(image, dtype=np.uint8)\n",
    "\n",
    "    for i in range(height):\n",
    "        for j in range(width):\n",
    "            bagian = padded_img[i:i + k_height, j:j + k_width]\n",
    "            if np.any((bagian == 255) & (kernel == 1)):\n",
    "                hasil[i, j] = 255\n",
    "    return hasil\n",
    "\n",
    "def erosi(image, kernel):\n",
    "    height, width = image.shape\n",
    "    k_height, k_width = kernel.shape\n",
    "    k_center_y = k_height // 2\n",
    "    k_center_x = k_width // 2\n",
    "\n",
    "    padded_img = np.pad(image, ((k_center_y, k_center_y), (k_center_x, k_center_x)), \n",
    "                        mode='constant', constant_values=0)\n",
    "\n",
    "    hasil = np.zeros((height, width), dtype=np.uint8)\n",
    "\n",
    "    for i in range(height):\n",
    "        for j in range(width):\n",
    "            cocok = True\n",
    "            for k in range(k_height):\n",
    "                for l in range(k_width):\n",
    "                    if kernel[k, l] == 1 and padded_img[i + k, j + l] != 255:\n",
    "                        cocok = False\n",
    "                        break\n",
    "                if not cocok:\n",
    "                    break\n",
    "            if cocok:\n",
    "                hasil[i, j] = 255\n",
    "    return hasil\n",
    "\n",
    "def sharpening(img, kernel):\n",
    "    kh, kw = kernel.shape\n",
    "    pad_h, pad_w = kh // 2, kw // 2\n",
    "\n",
    "    padded = np.pad(img, ((pad_h, pad_h), (pad_w, pad_w)), mode='constant', constant_values=0)\n",
    "    output = np.zeros_like(img, dtype=np.float32)\n",
    "\n",
    "    for y in range(img.shape[0]):\n",
    "        for x in range(img.shape[1]):\n",
    "            region = padded[y:y+kh, x:x+kw]\n",
    "            value = np.sum(region * kernel)\n",
    "            output[y, x] = np.clip(value, 0, 255)\n",
    "\n",
    "    return output.astype(np.uint8)\n",
    "\n",
    "def gradientMorfologi(img, kernel):\n",
    "    imgD = dilasi(img, kernel)\n",
    "    imgE = erosi(imgD, kernel)\n",
    "    hasil = imgD - imgE\n",
    "    return hasil\n",
    "\n",
    "\n",
    "\n",
    "# Kernel\n",
    "kernelSharpening = np.array([[0, -0.25, 0],\n",
    "                             [-0.25, 2, -0.25],\n",
    "                             [0, -0.25, 0]])\n",
    "\n",
    "robertX = np.array([[1, 0],\n",
    "                    [0, -1]])\n",
    "\n",
    "robertY = np.array([[0, 1],\n",
    "                    [-1, 0]])\n",
    "\n",
    "kernelMorfologi = np.array([[0, 1, 0],\n",
    "                            [1, 1, 1],\n",
    "                            [0, 1, 0]])\n",
    "\n"
   ]
  },
  {
   "cell_type": "markdown",
   "metadata": {},
   "source": [
    "### Preprocessing"
   ]
  },
  {
   "cell_type": "code",
   "execution_count": 169,
   "metadata": {},
   "outputs": [],
   "source": [
    "# pada bagian ini bisa gunakan data yang sebelum augmentasi atau setelah augmentasi\n",
    "dataPreprocessed = []\n",
    "for i in range(len(data_augmented)): # Loop through each image and do preprocessing\n",
    "\timg = data_augmented[i]\n",
    "\t# img = cropResize(img,256)  \n",
    "\timg = sharpening(img, kernelSharpening)  \n",
    "\timg = deteksi_tepi(img, robertX, robertY, 'robert')\n",
    "\timg = thresholding(img, 64)\n",
    "\timg = gradientMorfologi(img, kernelMorfologi)\n",
    "\tdataPreprocessed.append(img)"
   ]
  },
  {
   "cell_type": "markdown",
   "metadata": {},
   "source": [
    "### Feature Extraction"
   ]
  },
  {
   "cell_type": "code",
   "execution_count": 170,
   "metadata": {},
   "outputs": [],
   "source": [
    "def glcm(image, derajat):\n",
    "    if derajat == 0:\n",
    "        angles = [0]\n",
    "    elif derajat == 45:\n",
    "        angles = [np.pi / 4]\n",
    "    elif derajat == 90:\n",
    "        angles = [np.pi / 2]\n",
    "    elif derajat == 135:\n",
    "        angles = [3 * np.pi / 4]\n",
    "    else:\n",
    "        raise ValueError(\"Invalid angle. It should be one of the following: 0, 45, 90, 135.\")\n",
    "    \n",
    "    # mengembalikan matrix glcm dari image\n",
    "    glcm = graycomatrix(image, [1], angles, 256, symmetric=True, normed=True)\n",
    "    return glcm"
   ]
  },
  {
   "cell_type": "code",
   "execution_count": 171,
   "metadata": {},
   "outputs": [],
   "source": [
    "def correlation(matriks):\n",
    "\treturn graycoprops(matriks, 'correlation')[0, 0]"
   ]
  },
  {
   "cell_type": "code",
   "execution_count": 172,
   "metadata": {},
   "outputs": [],
   "source": [
    "def dissimilarity(matriks):\n",
    "    return graycoprops(matriks, 'dissimilarity')[0, 0]"
   ]
  },
  {
   "cell_type": "code",
   "execution_count": 173,
   "metadata": {},
   "outputs": [],
   "source": [
    "def homogenity(matriks):\n",
    "    return graycoprops(matriks, 'homogeneity')[0, 0]"
   ]
  },
  {
   "cell_type": "code",
   "execution_count": 174,
   "metadata": {},
   "outputs": [],
   "source": [
    "def contrast(matriks):\n",
    "    return graycoprops(matriks, 'contrast')[0, 0]"
   ]
  },
  {
   "cell_type": "code",
   "execution_count": 175,
   "metadata": {},
   "outputs": [],
   "source": [
    "def ASM(matriks):\n",
    "    return graycoprops(matriks, 'ASM')[0, 0]"
   ]
  },
  {
   "cell_type": "code",
   "execution_count": 176,
   "metadata": {},
   "outputs": [],
   "source": [
    "def energy(matriks):\n",
    "    return graycoprops(matriks, 'energy')[0, 0]"
   ]
  },
  {
   "cell_type": "code",
   "execution_count": 177,
   "metadata": {},
   "outputs": [],
   "source": [
    "def entropyGlcm(matriks):\n",
    "    return entropy(matriks.ravel())"
   ]
  },
  {
   "cell_type": "code",
   "execution_count": 178,
   "metadata": {},
   "outputs": [],
   "source": [
    "Derajat0 = []\n",
    "Derajat45 = []\n",
    "Derajat90 = []\n",
    "Derajat135 = []\n",
    "for i in range(len(dataPreprocessed)):\n",
    "    D0 = glcm(dataPreprocessed[i], 0)\n",
    "    D45 = glcm(dataPreprocessed[i], 45)\n",
    "    D90 = glcm(dataPreprocessed[i], 90)\n",
    "    D135 = glcm(dataPreprocessed[i], 135)\n",
    "    Derajat0.append(D0)\n",
    "    Derajat45.append(D45)\n",
    "    Derajat90.append(D90)\n",
    "    Derajat135.append(D135)"
   ]
  },
  {
   "cell_type": "code",
   "execution_count": 179,
   "metadata": {},
   "outputs": [],
   "source": [
    "Kontras0, Kontras45, Kontras90, Kontras135 = [], [], [], []\n",
    "dissimilarity0, dissimilarity45, dissimilarity90, dissimilarity135 =  [], [], [], []\n",
    "homogenity0, homogenity45, homogenity90, homogenity135 = [], [], [], []\n",
    "entropy0, entropy45, entropy90, entropy135 =  [], [], [], []\n",
    "ASM0, ASM45, ASM90, ASM135 =  [], [], [], []\n",
    "energy0, energy45, energy90, energy135 =  [], [], [], []\n",
    "correlation0, correlation45, correlation90, correlation135 = [], [], [], []"
   ]
  },
  {
   "cell_type": "code",
   "execution_count": 180,
   "metadata": {},
   "outputs": [],
   "source": [
    "for i in range(len(dataPreprocessed)):\n",
    "    C0 = correlation(Derajat0[i])\n",
    "    correlation0.append(C0)\n",
    "    C45 = correlation(Derajat45[i])\n",
    "    correlation45.append(C45)\n",
    "    C90 = correlation(Derajat90[i])\n",
    "    correlation90.append(C90)\n",
    "    C135 = correlation(Derajat135[i])\n",
    "    correlation135.append(C135)"
   ]
  },
  {
   "cell_type": "code",
   "execution_count": 181,
   "metadata": {},
   "outputs": [],
   "source": [
    "for i in range(len(dataPreprocessed)):\n",
    "    K0 = contrast(Derajat0[i])\n",
    "    K45 = contrast(Derajat45[i])\n",
    "    K90 = contrast(Derajat90[i])\n",
    "    K135 = contrast(Derajat135[i])\n",
    "    Kontras0.append(K0)\n",
    "    Kontras45.append(K45)\n",
    "    Kontras90.append(K90)\n",
    "    Kontras135.append(K135)"
   ]
  },
  {
   "cell_type": "code",
   "execution_count": 182,
   "metadata": {},
   "outputs": [],
   "source": [
    "for i in range(len(dataPreprocessed)):\n",
    "    Dis0 = dissimilarity(Derajat0[i])\n",
    "    Dis45 = dissimilarity(Derajat45[i])\n",
    "    Dis90 = dissimilarity(Derajat90[i])\n",
    "    Dis135 = dissimilarity(Derajat135[i])\n",
    "    dissimilarity0.append(Dis0)\n",
    "    dissimilarity45.append(Dis45)\n",
    "    dissimilarity90.append(Dis90)\n",
    "    dissimilarity135.append(Dis135)"
   ]
  },
  {
   "cell_type": "code",
   "execution_count": 183,
   "metadata": {},
   "outputs": [],
   "source": [
    "for i in range(len(dataPreprocessed)):\n",
    "    H0 = homogenity(Derajat0[i])\n",
    "    H45 = homogenity(Derajat45[i])\n",
    "    H90 = homogenity(Derajat90[i])\n",
    "    H135 = homogenity(Derajat135[i])\n",
    "    homogenity0.append(H0)\n",
    "    homogenity45.append(H45)\n",
    "    homogenity90.append(H90)\n",
    "    homogenity135.append(H135)"
   ]
  },
  {
   "cell_type": "code",
   "execution_count": 184,
   "metadata": {},
   "outputs": [],
   "source": [
    "for i in range(len(dataPreprocessed)):  \n",
    "    E0 = entropyGlcm(Derajat0[i])\n",
    "    E45 = entropyGlcm(Derajat45[i])\n",
    "    E90 = entropyGlcm(Derajat90[i])\n",
    "    E135 = entropyGlcm(Derajat135[i])\n",
    "    entropy0.append(E0)\n",
    "    entropy45.append(E45)\n",
    "    entropy90.append(E90)\n",
    "    entropy135.append(E135)"
   ]
  },
  {
   "cell_type": "code",
   "execution_count": 185,
   "metadata": {},
   "outputs": [],
   "source": [
    "for i in range(len(dataPreprocessed)):\n",
    "    A0 = ASM(Derajat0[i])\n",
    "    A45 = ASM(Derajat45[i])\n",
    "    A90 = ASM(Derajat90[i])\n",
    "    A135 = ASM(Derajat135[i])\n",
    "    ASM0.append(A0)\n",
    "    ASM45.append(A45)\n",
    "    ASM90.append(A90)\n",
    "    ASM135.append(A135)"
   ]
  },
  {
   "cell_type": "code",
   "execution_count": 186,
   "metadata": {},
   "outputs": [],
   "source": [
    "for i in range(len(dataPreprocessed)):\n",
    "    ER0 = energy(Derajat0[i])\n",
    "    ER45 = energy(Derajat45[i])\n",
    "    ER90 = energy(Derajat90[i])\n",
    "    ER135 = energy(Derajat135[i])\n",
    "    energy0.append(ER0)\n",
    "    energy45.append(ER45)\n",
    "    energy90.append(ER90)\n",
    "    energy135.append(ER135)"
   ]
  },
  {
   "cell_type": "markdown",
   "metadata": {},
   "source": [
    "### Write the extraction's results to CSV "
   ]
  },
  {
   "cell_type": "code",
   "execution_count": 187,
   "metadata": {},
   "outputs": [
    {
     "name": "stdout",
     "output_type": "stream",
     "text": [
      "Panjang masing-masing list:\n",
      "Filename: 60\n",
      "Label: 60\n",
      "Kontras0: 240\n",
      "Kontras45: 240\n",
      "Kontras90: 240\n",
      "Kontras135: 240\n",
      "Homogeneity0: 240\n",
      "Homogeneity45: 240\n",
      "Homogeneity90: 240\n",
      "Homogeneity135: 240\n",
      "Dissimilarity0: 240\n",
      "Dissimilarity45: 240\n",
      "Dissimilarity90: 240\n",
      "Dissimilarity135: 240\n",
      "Entropy0: 240\n",
      "Entropy45: 240\n",
      "Entropy90: 240\n",
      "Entropy135: 240\n",
      "ASM0: 240\n",
      "ASM45: 240\n",
      "ASM90: 240\n",
      "ASM135: 240\n",
      "Energy0: 240\n",
      "Energy45: 240\n",
      "Energy90: 240\n",
      "Energy135: 240\n",
      "Correlation0: 240\n",
      "Correlation45: 240\n",
      "Correlation90: 240\n",
      "Correlation135: 240\n"
     ]
    }
   ],
   "source": [
    "print(\"Panjang masing-masing list:\")\n",
    "print(\"Filename:\", len(file_name))\n",
    "print(\"Label:\", len(labels))\n",
    "print(\"Kontras0:\", len(Kontras0))\n",
    "print(\"Kontras45:\", len(Kontras45))\n",
    "print(\"Kontras90:\", len(Kontras90))\n",
    "print(\"Kontras135:\", len(Kontras135))\n",
    "print(\"Homogeneity0:\", len(homogenity0))\n",
    "print(\"Homogeneity45:\", len(homogenity45))\n",
    "print(\"Homogeneity90:\", len(homogenity90))\n",
    "print(\"Homogeneity135:\", len(homogenity135))\n",
    "print(\"Dissimilarity0:\", len(dissimilarity0))\n",
    "print(\"Dissimilarity45:\", len(dissimilarity45))\n",
    "print(\"Dissimilarity90:\", len(dissimilarity90))\n",
    "print(\"Dissimilarity135:\", len(dissimilarity135))\n",
    "print(\"Entropy0:\", len(entropy0))\n",
    "print(\"Entropy45:\", len(entropy45))\n",
    "print(\"Entropy90:\", len(entropy90))\n",
    "print(\"Entropy135:\", len(entropy135))\n",
    "print(\"ASM0:\", len(ASM0))\n",
    "print(\"ASM45:\", len(ASM45))\n",
    "print(\"ASM90:\", len(ASM90))\n",
    "print(\"ASM135:\", len(ASM135))\n",
    "print(\"Energy0:\", len(energy0))\n",
    "print(\"Energy45:\", len(energy45))\n",
    "print(\"Energy90:\", len(energy90))\n",
    "print(\"Energy135:\", len(energy135))\n",
    "print(\"Correlation0:\", len(correlation0))\n",
    "print(\"Correlation45:\", len(correlation45))\n",
    "print(\"Correlation90:\", len(correlation90))\n",
    "print(\"Correlation135:\", len(correlation135))\n"
   ]
  },
  {
   "cell_type": "code",
   "execution_count": 197,
   "metadata": {},
   "outputs": [
    {
     "data": {
      "text/html": [
       "<div>\n",
       "<style scoped>\n",
       "    .dataframe tbody tr th:only-of-type {\n",
       "        vertical-align: middle;\n",
       "    }\n",
       "\n",
       "    .dataframe tbody tr th {\n",
       "        vertical-align: top;\n",
       "    }\n",
       "\n",
       "    .dataframe thead th {\n",
       "        text-align: right;\n",
       "    }\n",
       "</style>\n",
       "<table border=\"1\" class=\"dataframe\">\n",
       "  <thead>\n",
       "    <tr style=\"text-align: right;\">\n",
       "      <th></th>\n",
       "      <th>Filename</th>\n",
       "      <th>Label</th>\n",
       "      <th>Contrast0</th>\n",
       "      <th>Contrast45</th>\n",
       "      <th>Contrast90</th>\n",
       "      <th>Contrast135</th>\n",
       "      <th>Homogeneity0</th>\n",
       "      <th>Homogeneity45</th>\n",
       "      <th>Homogeneity90</th>\n",
       "      <th>Homogeneity135</th>\n",
       "      <th>...</th>\n",
       "      <th>ASM90</th>\n",
       "      <th>ASM135</th>\n",
       "      <th>Energy0</th>\n",
       "      <th>Energy45</th>\n",
       "      <th>Energy90</th>\n",
       "      <th>Energy135</th>\n",
       "      <th>Correlation0</th>\n",
       "      <th>Correlation45</th>\n",
       "      <th>Correlation90</th>\n",
       "      <th>Correlation135</th>\n",
       "    </tr>\n",
       "  </thead>\n",
       "  <tbody>\n",
       "    <tr>\n",
       "      <th>0</th>\n",
       "      <td>puyuh-9.jpg</td>\n",
       "      <td>puyuh</td>\n",
       "      <td>9909.140625</td>\n",
       "      <td>7855.0</td>\n",
       "      <td>9425.039062</td>\n",
       "      <td>7890.0</td>\n",
       "      <td>0.847613</td>\n",
       "      <td>0.879202</td>\n",
       "      <td>0.855057</td>\n",
       "      <td>0.878664</td>\n",
       "      <td>...</td>\n",
       "      <td>0.691254</td>\n",
       "      <td>0.711064</td>\n",
       "      <td>0.828265</td>\n",
       "      <td>0.843495</td>\n",
       "      <td>0.831417</td>\n",
       "      <td>0.843246</td>\n",
       "      <td>0.175426</td>\n",
       "      <td>0.337390</td>\n",
       "      <td>0.215710</td>\n",
       "      <td>0.334482</td>\n",
       "    </tr>\n",
       "    <tr>\n",
       "      <th>1</th>\n",
       "      <td>puyuh-9.jpg_flip</td>\n",
       "      <td>puyuh</td>\n",
       "      <td>9909.140625</td>\n",
       "      <td>7889.0</td>\n",
       "      <td>9425.039062</td>\n",
       "      <td>7856.0</td>\n",
       "      <td>0.847613</td>\n",
       "      <td>0.878679</td>\n",
       "      <td>0.855057</td>\n",
       "      <td>0.879187</td>\n",
       "      <td>...</td>\n",
       "      <td>0.691254</td>\n",
       "      <td>0.711460</td>\n",
       "      <td>0.828265</td>\n",
       "      <td>0.843260</td>\n",
       "      <td>0.831417</td>\n",
       "      <td>0.843481</td>\n",
       "      <td>0.175426</td>\n",
       "      <td>0.334522</td>\n",
       "      <td>0.215710</td>\n",
       "      <td>0.337350</td>\n",
       "    </tr>\n",
       "    <tr>\n",
       "      <th>2</th>\n",
       "      <td>puyuh-9.jpg_rot</td>\n",
       "      <td>puyuh</td>\n",
       "      <td>10778.730469</td>\n",
       "      <td>8935.0</td>\n",
       "      <td>10215.937500</td>\n",
       "      <td>8929.0</td>\n",
       "      <td>0.834240</td>\n",
       "      <td>0.862593</td>\n",
       "      <td>0.842895</td>\n",
       "      <td>0.862686</td>\n",
       "      <td>...</td>\n",
       "      <td>0.675510</td>\n",
       "      <td>0.690490</td>\n",
       "      <td>0.818328</td>\n",
       "      <td>0.830917</td>\n",
       "      <td>0.821894</td>\n",
       "      <td>0.830957</td>\n",
       "      <td>0.136892</td>\n",
       "      <td>0.280769</td>\n",
       "      <td>0.182009</td>\n",
       "      <td>0.281252</td>\n",
       "    </tr>\n",
       "    <tr>\n",
       "      <th>3</th>\n",
       "      <td>puyuh-9.jpg_bright</td>\n",
       "      <td>puyuh</td>\n",
       "      <td>9821.484375</td>\n",
       "      <td>7819.0</td>\n",
       "      <td>9365.273438</td>\n",
       "      <td>7852.0</td>\n",
       "      <td>0.848961</td>\n",
       "      <td>0.879756</td>\n",
       "      <td>0.855976</td>\n",
       "      <td>0.879248</td>\n",
       "      <td>...</td>\n",
       "      <td>0.692954</td>\n",
       "      <td>0.712562</td>\n",
       "      <td>0.829463</td>\n",
       "      <td>0.844369</td>\n",
       "      <td>0.832439</td>\n",
       "      <td>0.844134</td>\n",
       "      <td>0.178064</td>\n",
       "      <td>0.336587</td>\n",
       "      <td>0.216244</td>\n",
       "      <td>0.333832</td>\n",
       "    </tr>\n",
       "    <tr>\n",
       "      <th>4</th>\n",
       "      <td>puyuh-8.jpg</td>\n",
       "      <td>puyuh</td>\n",
       "      <td>11431.171875</td>\n",
       "      <td>11175.0</td>\n",
       "      <td>12150.351562</td>\n",
       "      <td>11058.0</td>\n",
       "      <td>0.824206</td>\n",
       "      <td>0.828146</td>\n",
       "      <td>0.813146</td>\n",
       "      <td>0.829945</td>\n",
       "      <td>...</td>\n",
       "      <td>0.622662</td>\n",
       "      <td>0.635635</td>\n",
       "      <td>0.793543</td>\n",
       "      <td>0.796531</td>\n",
       "      <td>0.789089</td>\n",
       "      <td>0.797267</td>\n",
       "      <td>0.220058</td>\n",
       "      <td>0.230087</td>\n",
       "      <td>0.170988</td>\n",
       "      <td>0.238186</td>\n",
       "    </tr>\n",
       "    <tr>\n",
       "      <th>...</th>\n",
       "      <td>...</td>\n",
       "      <td>...</td>\n",
       "      <td>...</td>\n",
       "      <td>...</td>\n",
       "      <td>...</td>\n",
       "      <td>...</td>\n",
       "      <td>...</td>\n",
       "      <td>...</td>\n",
       "      <td>...</td>\n",
       "      <td>...</td>\n",
       "      <td>...</td>\n",
       "      <td>...</td>\n",
       "      <td>...</td>\n",
       "      <td>...</td>\n",
       "      <td>...</td>\n",
       "      <td>...</td>\n",
       "      <td>...</td>\n",
       "      <td>...</td>\n",
       "      <td>...</td>\n",
       "      <td>...</td>\n",
       "      <td>...</td>\n",
       "    </tr>\n",
       "    <tr>\n",
       "      <th>235</th>\n",
       "      <td>bebek-7.jpg_bright</td>\n",
       "      <td>bebek</td>\n",
       "      <td>1687.382812</td>\n",
       "      <td>2298.0</td>\n",
       "      <td>1434.375000</td>\n",
       "      <td>2316.0</td>\n",
       "      <td>0.974051</td>\n",
       "      <td>0.964660</td>\n",
       "      <td>0.977942</td>\n",
       "      <td>0.964383</td>\n",
       "      <td>...</td>\n",
       "      <td>0.910473</td>\n",
       "      <td>0.904529</td>\n",
       "      <td>0.952125</td>\n",
       "      <td>0.951202</td>\n",
       "      <td>0.954187</td>\n",
       "      <td>0.951067</td>\n",
       "      <td>0.619406</td>\n",
       "      <td>0.421813</td>\n",
       "      <td>0.675388</td>\n",
       "      <td>0.417284</td>\n",
       "    </tr>\n",
       "    <tr>\n",
       "      <th>236</th>\n",
       "      <td>bebek-6.jpg</td>\n",
       "      <td>bebek</td>\n",
       "      <td>1563.867188</td>\n",
       "      <td>1856.0</td>\n",
       "      <td>1362.656250</td>\n",
       "      <td>1862.0</td>\n",
       "      <td>0.975950</td>\n",
       "      <td>0.971458</td>\n",
       "      <td>0.979044</td>\n",
       "      <td>0.971365</td>\n",
       "      <td>...</td>\n",
       "      <td>0.923862</td>\n",
       "      <td>0.922577</td>\n",
       "      <td>0.959819</td>\n",
       "      <td>0.960554</td>\n",
       "      <td>0.961177</td>\n",
       "      <td>0.960509</td>\n",
       "      <td>0.564898</td>\n",
       "      <td>0.424631</td>\n",
       "      <td>0.623242</td>\n",
       "      <td>0.422771</td>\n",
       "    </tr>\n",
       "    <tr>\n",
       "      <th>237</th>\n",
       "      <td>bebek-6.jpg_flip</td>\n",
       "      <td>bebek</td>\n",
       "      <td>1560.878906</td>\n",
       "      <td>1837.0</td>\n",
       "      <td>1368.632812</td>\n",
       "      <td>1831.0</td>\n",
       "      <td>0.975996</td>\n",
       "      <td>0.971750</td>\n",
       "      <td>0.978953</td>\n",
       "      <td>0.971842</td>\n",
       "      <td>...</td>\n",
       "      <td>0.925132</td>\n",
       "      <td>0.923917</td>\n",
       "      <td>0.960301</td>\n",
       "      <td>0.961161</td>\n",
       "      <td>0.961838</td>\n",
       "      <td>0.961206</td>\n",
       "      <td>0.558690</td>\n",
       "      <td>0.420108</td>\n",
       "      <td>0.612116</td>\n",
       "      <td>0.422002</td>\n",
       "    </tr>\n",
       "    <tr>\n",
       "      <th>238</th>\n",
       "      <td>bebek-6.jpg_rot</td>\n",
       "      <td>bebek</td>\n",
       "      <td>3159.609375</td>\n",
       "      <td>3171.0</td>\n",
       "      <td>2833.886719</td>\n",
       "      <td>3201.0</td>\n",
       "      <td>0.951410</td>\n",
       "      <td>0.951235</td>\n",
       "      <td>0.956419</td>\n",
       "      <td>0.950774</td>\n",
       "      <td>...</td>\n",
       "      <td>0.887336</td>\n",
       "      <td>0.884656</td>\n",
       "      <td>0.939304</td>\n",
       "      <td>0.940783</td>\n",
       "      <td>0.941985</td>\n",
       "      <td>0.940562</td>\n",
       "      <td>0.320208</td>\n",
       "      <td>0.288504</td>\n",
       "      <td>0.386022</td>\n",
       "      <td>0.281772</td>\n",
       "    </tr>\n",
       "    <tr>\n",
       "      <th>239</th>\n",
       "      <td>bebek-6.jpg_bright</td>\n",
       "      <td>bebek</td>\n",
       "      <td>1582.792969</td>\n",
       "      <td>2251.0</td>\n",
       "      <td>1691.367188</td>\n",
       "      <td>2263.0</td>\n",
       "      <td>0.975659</td>\n",
       "      <td>0.965383</td>\n",
       "      <td>0.973989</td>\n",
       "      <td>0.965199</td>\n",
       "      <td>...</td>\n",
       "      <td>0.908051</td>\n",
       "      <td>0.906224</td>\n",
       "      <td>0.953457</td>\n",
       "      <td>0.952048</td>\n",
       "      <td>0.952917</td>\n",
       "      <td>0.951958</td>\n",
       "      <td>0.637622</td>\n",
       "      <td>0.424820</td>\n",
       "      <td>0.609532</td>\n",
       "      <td>0.421754</td>\n",
       "    </tr>\n",
       "  </tbody>\n",
       "</table>\n",
       "<p>240 rows × 30 columns</p>\n",
       "</div>"
      ],
      "text/plain": [
       "               Filename  Label     Contrast0  Contrast45    Contrast90  \\\n",
       "0           puyuh-9.jpg  puyuh   9909.140625      7855.0   9425.039062   \n",
       "1      puyuh-9.jpg_flip  puyuh   9909.140625      7889.0   9425.039062   \n",
       "2       puyuh-9.jpg_rot  puyuh  10778.730469      8935.0  10215.937500   \n",
       "3    puyuh-9.jpg_bright  puyuh   9821.484375      7819.0   9365.273438   \n",
       "4           puyuh-8.jpg  puyuh  11431.171875     11175.0  12150.351562   \n",
       "..                  ...    ...           ...         ...           ...   \n",
       "235  bebek-7.jpg_bright  bebek   1687.382812      2298.0   1434.375000   \n",
       "236         bebek-6.jpg  bebek   1563.867188      1856.0   1362.656250   \n",
       "237    bebek-6.jpg_flip  bebek   1560.878906      1837.0   1368.632812   \n",
       "238     bebek-6.jpg_rot  bebek   3159.609375      3171.0   2833.886719   \n",
       "239  bebek-6.jpg_bright  bebek   1582.792969      2251.0   1691.367188   \n",
       "\n",
       "     Contrast135  Homogeneity0  Homogeneity45  Homogeneity90  Homogeneity135  \\\n",
       "0         7890.0      0.847613       0.879202       0.855057        0.878664   \n",
       "1         7856.0      0.847613       0.878679       0.855057        0.879187   \n",
       "2         8929.0      0.834240       0.862593       0.842895        0.862686   \n",
       "3         7852.0      0.848961       0.879756       0.855976        0.879248   \n",
       "4        11058.0      0.824206       0.828146       0.813146        0.829945   \n",
       "..           ...           ...            ...            ...             ...   \n",
       "235       2316.0      0.974051       0.964660       0.977942        0.964383   \n",
       "236       1862.0      0.975950       0.971458       0.979044        0.971365   \n",
       "237       1831.0      0.975996       0.971750       0.978953        0.971842   \n",
       "238       3201.0      0.951410       0.951235       0.956419        0.950774   \n",
       "239       2263.0      0.975659       0.965383       0.973989        0.965199   \n",
       "\n",
       "     ...     ASM90    ASM135   Energy0  Energy45  Energy90  Energy135  \\\n",
       "0    ...  0.691254  0.711064  0.828265  0.843495  0.831417   0.843246   \n",
       "1    ...  0.691254  0.711460  0.828265  0.843260  0.831417   0.843481   \n",
       "2    ...  0.675510  0.690490  0.818328  0.830917  0.821894   0.830957   \n",
       "3    ...  0.692954  0.712562  0.829463  0.844369  0.832439   0.844134   \n",
       "4    ...  0.622662  0.635635  0.793543  0.796531  0.789089   0.797267   \n",
       "..   ...       ...       ...       ...       ...       ...        ...   \n",
       "235  ...  0.910473  0.904529  0.952125  0.951202  0.954187   0.951067   \n",
       "236  ...  0.923862  0.922577  0.959819  0.960554  0.961177   0.960509   \n",
       "237  ...  0.925132  0.923917  0.960301  0.961161  0.961838   0.961206   \n",
       "238  ...  0.887336  0.884656  0.939304  0.940783  0.941985   0.940562   \n",
       "239  ...  0.908051  0.906224  0.953457  0.952048  0.952917   0.951958   \n",
       "\n",
       "     Correlation0  Correlation45  Correlation90  Correlation135  \n",
       "0        0.175426       0.337390       0.215710        0.334482  \n",
       "1        0.175426       0.334522       0.215710        0.337350  \n",
       "2        0.136892       0.280769       0.182009        0.281252  \n",
       "3        0.178064       0.336587       0.216244        0.333832  \n",
       "4        0.220058       0.230087       0.170988        0.238186  \n",
       "..            ...            ...            ...             ...  \n",
       "235      0.619406       0.421813       0.675388        0.417284  \n",
       "236      0.564898       0.424631       0.623242        0.422771  \n",
       "237      0.558690       0.420108       0.612116        0.422002  \n",
       "238      0.320208       0.288504       0.386022        0.281772  \n",
       "239      0.637622       0.424820       0.609532        0.421754  \n",
       "\n",
       "[240 rows x 30 columns]"
      ]
     },
     "execution_count": 197,
     "metadata": {},
     "output_type": "execute_result"
    }
   ],
   "source": [
    "dataTable = {'Filename': file_name_augmented, 'Label': labels_augmented,\n",
    "        'Contrast0': Kontras0, 'Contrast45': Kontras45, 'Contrast90': Kontras90, 'Contrast135': Kontras135,\n",
    "        'Homogeneity0': homogenity0, 'Homogeneity45': homogenity45, 'Homogeneity90': homogenity90, 'Homogeneity135': homogenity135,\n",
    "        'Dissimilarity0': dissimilarity0, 'Dissimilarity45': dissimilarity45, 'Dissimilarity90': dissimilarity90, 'Dissimilarity135': dissimilarity135,\n",
    "        'Entropy0': entropy0, 'Entropy45': entropy45, 'Entropy90': entropy90, 'Entropy135': entropy135,\n",
    "        'ASM0': ASM0, 'ASM45': ASM45, 'ASM90': ASM90, 'ASM135': ASM135,\n",
    "        'Energy0': energy0, 'Energy45': energy45, 'Energy90': energy90, 'Energy135': energy135,\n",
    "        'Correlation0': correlation0, 'Correlation45': correlation45, 'Correlation90': correlation90, 'Correlation135': correlation135,\n",
    "        }\n",
    "df = pd.DataFrame(dataTable)\n",
    "df.to_csv('hasil_ekstraksi_3.csv', index=False)\n",
    "\n",
    "hasilEkstrak = pd.read_csv('hasil_ekstraksi_3.csv')\n",
    "hasilEkstrak"
   ]
  },
  {
   "cell_type": "markdown",
   "metadata": {},
   "source": [
    "### Features Selection"
   ]
  },
  {
   "cell_type": "markdown",
   "metadata": {},
   "source": [
    "pada bagian seleksi fitur ini bisa menggunakan metode seperti\n",
    "- PCA\n",
    "- LDA\n",
    "- t-SNE\n",
    "- Chi-square\n",
    "- ANOVA\n",
    "- Autoencoder\n",
    "- correlation\n",
    "- dll\n",
    "\n",
    "berikut contoh menggunakan correlation:"
   ]
  },
  {
   "cell_type": "code",
   "execution_count": 189,
   "metadata": {},
   "outputs": [
    {
     "data": {
      "text/plain": [
       "<Axes: >"
      ]
     },
     "execution_count": 189,
     "metadata": {},
     "output_type": "execute_result"
    },
    {
     "data": {
      "image/png": "[encoded data removed]",
      "text/plain": [
       "<Figure size 1700x1700 with 2 Axes>"
      ]
     },
     "metadata": {},
     "output_type": "display_data"
    }
   ],
   "source": [
    "# Menghitung korelasi\n",
    "correlation = hasilEkstrak.drop(columns=['Label','Filename']).corr()\n",
    "\n",
    "# Menyaring fitur yang memiliki korelasi absolut lebih dari 0.95 dengan label\n",
    "threshold = 0.95 # atur threshold ini untuk menentukan seberapa besar korelasi yang ingin disaring\n",
    "selectionFeature = []\n",
    "columns = np.full((correlation.shape[0],), True, dtype=bool)\n",
    "for i in range(correlation.shape[0]):\n",
    "\tfor j in range(i+1, correlation.shape[0]):\n",
    "\t\tif correlation.iloc[i,j] >= threshold:\n",
    "\t\t\tif columns[j]:\n",
    "\t\t\t\tcolumns[j] = False\n",
    "select = hasilEkstrak.drop(columns=['Label','Filename']).columns[columns]\n",
    "x_new = hasilEkstrak[select]\n",
    "x_new\n",
    "y = hasilEkstrak['Label']\n",
    "plt.figure(figsize=(17,17))\n",
    "sns.heatmap(x_new.corr(), annot=True, cmap='Blues', fmt=\".2f\")"
   ]
  },
  {
   "cell_type": "markdown",
   "metadata": {},
   "source": [
    "## Splitting Data"
   ]
  },
  {
   "cell_type": "code",
   "execution_count": 190,
   "metadata": {},
   "outputs": [
    {
     "name": "stdout",
     "output_type": "stream",
     "text": [
      "(192, 5)\n",
      "(48, 5)\n"
     ]
    }
   ],
   "source": [
    "# ubah bagian test_size sesuai kebutuhan\n",
    "# 0.3 = 30% data untuk testing (train/test 70/30)\n",
    "# 0.2 = 20% data untuk testing (train/test 80/20)\n",
    "X_train, X_test, y_train, y_test = train_test_split(x_new, y, test_size=0.2, random_state=42)\n",
    "print(X_train.shape)\n",
    "print(X_test.shape)"
   ]
  },
  {
   "cell_type": "markdown",
   "metadata": {},
   "source": [
    "## Feature Normalization"
   ]
  },
  {
   "cell_type": "markdown",
   "metadata": {},
   "source": [
    "berikut metode normalisasi yang bisa digunakan:\n",
    "- Min-Max Scaling\n",
    "- Standardization (Z-score)\n",
    "- Robust Scaling\n",
    "- MaxAbsScaler\n",
    "- dll\n",
    "\n",
    "berikut contoh menggunakan Standardization (Z-score):"
   ]
  },
  {
   "cell_type": "code",
   "execution_count": 191,
   "metadata": {},
   "outputs": [],
   "source": [
    "# normalisasi mean std\n",
    "X_test = (X_test - X_train.mean()) / X_train.std()\n",
    "X_train = (X_train - X_train.mean()) / X_train.std()"
   ]
  },
  {
   "cell_type": "markdown",
   "metadata": {},
   "source": [
    "## Modeling"
   ]
  },
  {
   "cell_type": "markdown",
   "metadata": {},
   "source": [
    "### Define Model"
   ]
  },
  {
   "cell_type": "code",
   "execution_count": 192,
   "metadata": {},
   "outputs": [],
   "source": [
    "def generateClassificationReport(y_true, y_pred):\n",
    "\tprint(classification_report(y_true, y_pred))\n",
    "\tprint(confusion_matrix(y_true, y_pred))\n",
    "\tprint('Accuracy:', accuracy_score(y_true, y_pred))\n",
    "\n",
    "# Define classifiers\n",
    "rf = RandomForestClassifier(n_estimators=5, random_state=42)\n",
    "svm = SVC(kernel='rbf', random_state=42)\n",
    "knn = KNeighborsClassifier(n_neighbors=5)"
   ]
  },
  {
   "cell_type": "markdown",
   "metadata": {},
   "source": [
    "### Train Random Forest Classifier"
   ]
  },
  {
   "cell_type": "code",
   "execution_count": 193,
   "metadata": {},
   "outputs": [
    {
     "name": "stdout",
     "output_type": "stream",
     "text": [
      "------Training Set------\n",
      "              precision    recall  f1-score   support\n",
      "\n",
      "        ayam       1.00      0.98      0.99        65\n",
      "       bebek       1.00      1.00      1.00        63\n",
      "       puyuh       0.98      1.00      0.99        64\n",
      "\n",
      "    accuracy                           0.99       192\n",
      "   macro avg       0.99      0.99      0.99       192\n",
      "weighted avg       0.99      0.99      0.99       192\n",
      "\n",
      "[[64  0  1]\n",
      " [ 0 63  0]\n",
      " [ 0  0 64]]\n",
      "Accuracy: 0.9947916666666666\n",
      "\n",
      "------Testing Set------\n",
      "              precision    recall  f1-score   support\n",
      "\n",
      "        ayam       0.93      0.93      0.93        15\n",
      "       bebek       1.00      1.00      1.00        17\n",
      "       puyuh       0.94      0.94      0.94        16\n",
      "\n",
      "    accuracy                           0.96        48\n",
      "   macro avg       0.96      0.96      0.96        48\n",
      "weighted avg       0.96      0.96      0.96        48\n",
      "\n",
      "[[14  0  1]\n",
      " [ 0 17  0]\n",
      " [ 1  0 15]]\n",
      "Accuracy: 0.9583333333333334\n"
     ]
    }
   ],
   "source": [
    "# Train Random Forest Classifier\n",
    "rf.fit(X_train, y_train)\n",
    "\n",
    "# Make predictions and evaluate the model with the training set\n",
    "print(\"------Training Set------\")\n",
    "y_pred = rf.predict(X_train)\n",
    "generateClassificationReport( y_train, y_pred)\n",
    "\n",
    "# Make predictions and evaluate the model with the testing set\n",
    "print(\"\\n------Testing Set------\")\n",
    "y_pred = rf.predict(X_test)\n",
    "generateClassificationReport( y_test, y_pred)"
   ]
  },
  {
   "cell_type": "markdown",
   "metadata": {},
   "source": [
    "### Train SVM Classifier"
   ]
  },
  {
   "cell_type": "code",
   "execution_count": 194,
   "metadata": {},
   "outputs": [
    {
     "name": "stdout",
     "output_type": "stream",
     "text": [
      "\n",
      "------Training Set------\n",
      "              precision    recall  f1-score   support\n",
      "\n",
      "        ayam       0.91      0.77      0.83        65\n",
      "       bebek       0.88      0.97      0.92        63\n",
      "       puyuh       0.90      0.95      0.92        64\n",
      "\n",
      "    accuracy                           0.90       192\n",
      "   macro avg       0.90      0.90      0.89       192\n",
      "weighted avg       0.90      0.90      0.89       192\n",
      "\n",
      "[[50  8  7]\n",
      " [ 2 61  0]\n",
      " [ 3  0 61]]\n",
      "Accuracy: 0.8958333333333334\n",
      "\n",
      "------Testing Set------\n",
      "              precision    recall  f1-score   support\n",
      "\n",
      "        ayam       1.00      0.80      0.89        15\n",
      "       bebek       0.94      1.00      0.97        17\n",
      "       puyuh       0.89      1.00      0.94        16\n",
      "\n",
      "    accuracy                           0.94        48\n",
      "   macro avg       0.94      0.93      0.93        48\n",
      "weighted avg       0.94      0.94      0.94        48\n",
      "\n",
      "[[12  1  2]\n",
      " [ 0 17  0]\n",
      " [ 0  0 16]]\n",
      "Accuracy: 0.9375\n"
     ]
    }
   ],
   "source": [
    "# Train SVM Classifier\n",
    "svm.fit(X_train, y_train)\n",
    "\n",
    "# Make predictions and evaluate the model with the training set\n",
    "print(\"\\n------Training Set------\")\n",
    "y_pred = svm.predict(X_train)\n",
    "generateClassificationReport( y_train, y_pred)\n",
    "\n",
    "# Make predictions and evaluate the model with the testing set\n",
    "print(\"\\n------Testing Set------\")\n",
    "y_pred = svm.predict(X_test)\n",
    "generateClassificationReport( y_test, y_pred)"
   ]
  },
  {
   "cell_type": "markdown",
   "metadata": {},
   "source": [
    "### Train KNN Classifier"
   ]
  },
  {
   "cell_type": "code",
   "execution_count": 195,
   "metadata": {},
   "outputs": [
    {
     "name": "stdout",
     "output_type": "stream",
     "text": [
      "\n",
      "------Training Set------\n",
      "              precision    recall  f1-score   support\n",
      "\n",
      "        ayam       0.98      0.80      0.88        65\n",
      "       bebek       0.94      0.98      0.96        63\n",
      "       puyuh       0.88      1.00      0.93        64\n",
      "\n",
      "    accuracy                           0.93       192\n",
      "   macro avg       0.93      0.93      0.93       192\n",
      "weighted avg       0.93      0.93      0.93       192\n",
      "\n",
      "[[52  4  9]\n",
      " [ 1 62  0]\n",
      " [ 0  0 64]]\n",
      "Accuracy: 0.9270833333333334\n",
      "\n",
      "------Testing Set------\n",
      "              precision    recall  f1-score   support\n",
      "\n",
      "        ayam       1.00      0.80      0.89        15\n",
      "       bebek       1.00      1.00      1.00        17\n",
      "       puyuh       0.84      1.00      0.91        16\n",
      "\n",
      "    accuracy                           0.94        48\n",
      "   macro avg       0.95      0.93      0.93        48\n",
      "weighted avg       0.95      0.94      0.94        48\n",
      "\n",
      "[[12  0  3]\n",
      " [ 0 17  0]\n",
      " [ 0  0 16]]\n",
      "Accuracy: 0.9375\n"
     ]
    }
   ],
   "source": [
    "# Train KNN Classifier\n",
    "knn.fit(X_train, y_train)\n",
    "\n",
    "# Make predictions and evaluate the model with the training set\n",
    "print(\"\\n------Training Set------\")\n",
    "y_pred = knn.predict(X_train)\n",
    "generateClassificationReport( y_train, y_pred)\n",
    "\n",
    "# Make predictions and evaluate the model with the testing set\n",
    "print(\"\\n------Testing Set------\")\n",
    "y_pred = knn.predict(X_test)\n",
    "generateClassificationReport( y_test, y_pred)"
   ]
  },
  {
   "cell_type": "markdown",
   "metadata": {},
   "source": [
    "## Evaluation With Confusion Matrix"
   ]
  },
  {
   "cell_type": "code",
   "execution_count": 196,
   "metadata": {},
   "outputs": [
    {
     "data": {
      "image/png": "[encoded data removed]",
      "text/plain": [
       "<Figure size 640x480 with 2 Axes>"
      ]
     },
     "metadata": {},
     "output_type": "display_data"
    },
    {
     "data": {
      "image/png": "[encoded data removed]",
      "text/plain": [
       "<Figure size 640x480 with 2 Axes>"
      ]
     },
     "metadata": {},
     "output_type": "display_data"
    },
    {
     "data": {
      "image/png": "[encoded data removed]",
      "text/plain": [
       "<Figure size 640x480 with 2 Axes>"
      ]
     },
     "metadata": {},
     "output_type": "display_data"
    }
   ],
   "source": [
    "def plot_confusion_matrix(y_true, y_pred, title):\n",
    "    cm = confusion_matrix(y_true, y_pred)\n",
    "    disp = ConfusionMatrixDisplay(confusion_matrix=cm)\n",
    "    disp.plot(cmap=plt.cm.Blues)\n",
    "    plt.title(title)\n",
    "    plt.show()\n",
    "\n",
    "# Plot confusion matrix for Random Forest\n",
    "plot_confusion_matrix(y_test, rf.predict(X_test), \"Random Forest Confusion Matrix\")\n",
    "# Plot confusion matrix for SVM\n",
    "plot_confusion_matrix(y_test, svm.predict(X_test), \"SVM Confusion Matrix\")\n",
    "# Plot confusion matrix for KNN\n",
    "plot_confusion_matrix(y_test, knn.predict(X_test), \"KNN Confusion Matrix\")"
   ]
  },
  {
   "cell_type": "code",
   "execution_count": null,
   "metadata": {},
   "outputs": [],
   "source": []
  }
 ],
 "metadata": {
  "kernelspec": {
   "display_name": "Python 3",
   "language": "python",
   "name": "python3"
  },
  "language_info": {
   "codemirror_mode": {
    "name": "ipython",
    "version": 3
   },
   "file_extension": ".py",
   "mimetype": "text/x-python",
   "name": "python",
   "nbconvert_exporter": "python",
   "pygments_lexer": "ipython3",
   "version": "3.12.1"
  }
 },
 "nbformat": 4,
 "nbformat_minor": 2
}
